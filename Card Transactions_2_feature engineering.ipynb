{
 "cells": [
  {
   "cell_type": "markdown",
   "id": "3eea5418",
   "metadata": {},
   "source": [
    "# Homework 10\n",
    "## Name: Chinmayi Bengaluru Prakash\n",
    "\n",
    "USC ID: 7142609162"
   ]
  },
  {
   "cell_type": "markdown",
   "id": "6a8cad00",
   "metadata": {},
   "source": [
    "## Importing Packages"
   ]
  },
  {
   "cell_type": "code",
   "execution_count": 55,
   "id": "b47d5a43",
   "metadata": {},
   "outputs": [],
   "source": [
    "from timeit import default_timer as timer\n",
    "import pandas as pd\n",
    "import scipy.stats\n",
    "import numpy as np\n",
    "import datetime as dt\n",
    "import seaborn as sns\n",
    "import matplotlib.pyplot as plt\n",
    "import calendar\n",
    "import time\n",
    "import math\n",
    "import timeit\n",
    "from math import e\n",
    "\n",
    "%matplotlib inline\n",
    "start_time = timer()"
   ]
  },
  {
   "cell_type": "code",
   "execution_count": 4,
   "id": "28249927",
   "metadata": {},
   "outputs": [],
   "source": [
    "plt.rcParams.update({'figure.figsize':(12,6)})\n",
    "plt.rcParams.update({'font.size':20})"
   ]
  },
  {
   "cell_type": "markdown",
   "id": "298a27e5",
   "metadata": {},
   "source": [
    "## Import Data & Exploration"
   ]
  },
  {
   "cell_type": "code",
   "execution_count": 5,
   "id": "08bb765e",
   "metadata": {},
   "outputs": [],
   "source": [
    "data = pd.read_csv('card transactions.csv')"
   ]
  },
  {
   "cell_type": "code",
   "execution_count": 6,
   "id": "480b74f2",
   "metadata": {
    "scrolled": true
   },
   "outputs": [
    {
     "data": {
      "text/plain": [
       "(96753, 10)"
      ]
     },
     "execution_count": 6,
     "metadata": {},
     "output_type": "execute_result"
    }
   ],
   "source": [
    "data.shape"
   ]
  },
  {
   "cell_type": "code",
   "execution_count": 7,
   "id": "c85a71a4",
   "metadata": {},
   "outputs": [
    {
     "data": {
      "text/html": [
       "<div>\n",
       "<style scoped>\n",
       "    .dataframe tbody tr th:only-of-type {\n",
       "        vertical-align: middle;\n",
       "    }\n",
       "\n",
       "    .dataframe tbody tr th {\n",
       "        vertical-align: top;\n",
       "    }\n",
       "\n",
       "    .dataframe thead th {\n",
       "        text-align: right;\n",
       "    }\n",
       "</style>\n",
       "<table border=\"1\" class=\"dataframe\">\n",
       "  <thead>\n",
       "    <tr style=\"text-align: right;\">\n",
       "      <th></th>\n",
       "      <th>Recnum</th>\n",
       "      <th>Cardnum</th>\n",
       "      <th>Date</th>\n",
       "      <th>Merchnum</th>\n",
       "      <th>Merch description</th>\n",
       "      <th>Merch state</th>\n",
       "      <th>Merch zip</th>\n",
       "      <th>Transtype</th>\n",
       "      <th>Amount</th>\n",
       "      <th>Fraud</th>\n",
       "    </tr>\n",
       "  </thead>\n",
       "  <tbody>\n",
       "    <tr>\n",
       "      <th>0</th>\n",
       "      <td>1</td>\n",
       "      <td>5142190439</td>\n",
       "      <td>2006-01-01</td>\n",
       "      <td>5509006296254</td>\n",
       "      <td>FEDEX SHP 12/23/09 AB#</td>\n",
       "      <td>TN</td>\n",
       "      <td>38118.0</td>\n",
       "      <td>P</td>\n",
       "      <td>3.62</td>\n",
       "      <td>0</td>\n",
       "    </tr>\n",
       "    <tr>\n",
       "      <th>1</th>\n",
       "      <td>2</td>\n",
       "      <td>5142183973</td>\n",
       "      <td>2006-01-01</td>\n",
       "      <td>61003026333</td>\n",
       "      <td>SERVICE MERCHANDISE #81</td>\n",
       "      <td>MA</td>\n",
       "      <td>1803.0</td>\n",
       "      <td>P</td>\n",
       "      <td>31.42</td>\n",
       "      <td>0</td>\n",
       "    </tr>\n",
       "    <tr>\n",
       "      <th>2</th>\n",
       "      <td>3</td>\n",
       "      <td>5142131721</td>\n",
       "      <td>2006-01-01</td>\n",
       "      <td>4503082993600</td>\n",
       "      <td>OFFICE DEPOT #191</td>\n",
       "      <td>MD</td>\n",
       "      <td>20706.0</td>\n",
       "      <td>P</td>\n",
       "      <td>178.49</td>\n",
       "      <td>0</td>\n",
       "    </tr>\n",
       "    <tr>\n",
       "      <th>3</th>\n",
       "      <td>4</td>\n",
       "      <td>5142148452</td>\n",
       "      <td>2006-01-01</td>\n",
       "      <td>5509006296254</td>\n",
       "      <td>FEDEX SHP 12/28/09 AB#</td>\n",
       "      <td>TN</td>\n",
       "      <td>38118.0</td>\n",
       "      <td>P</td>\n",
       "      <td>3.62</td>\n",
       "      <td>0</td>\n",
       "    </tr>\n",
       "    <tr>\n",
       "      <th>4</th>\n",
       "      <td>5</td>\n",
       "      <td>5142190439</td>\n",
       "      <td>2006-01-01</td>\n",
       "      <td>5509006296254</td>\n",
       "      <td>FEDEX SHP 12/23/09 AB#</td>\n",
       "      <td>TN</td>\n",
       "      <td>38118.0</td>\n",
       "      <td>P</td>\n",
       "      <td>3.62</td>\n",
       "      <td>0</td>\n",
       "    </tr>\n",
       "  </tbody>\n",
       "</table>\n",
       "</div>"
      ],
      "text/plain": [
       "   Recnum     Cardnum        Date       Merchnum        Merch description  \\\n",
       "0       1  5142190439  2006-01-01  5509006296254   FEDEX SHP 12/23/09 AB#   \n",
       "1       2  5142183973  2006-01-01    61003026333  SERVICE MERCHANDISE #81   \n",
       "2       3  5142131721  2006-01-01  4503082993600        OFFICE DEPOT #191   \n",
       "3       4  5142148452  2006-01-01  5509006296254   FEDEX SHP 12/28/09 AB#   \n",
       "4       5  5142190439  2006-01-01  5509006296254   FEDEX SHP 12/23/09 AB#   \n",
       "\n",
       "  Merch state  Merch zip Transtype  Amount  Fraud  \n",
       "0          TN    38118.0         P    3.62      0  \n",
       "1          MA     1803.0         P   31.42      0  \n",
       "2          MD    20706.0         P  178.49      0  \n",
       "3          TN    38118.0         P    3.62      0  \n",
       "4          TN    38118.0         P    3.62      0  "
      ]
     },
     "execution_count": 7,
     "metadata": {},
     "output_type": "execute_result"
    }
   ],
   "source": [
    "data.head()"
   ]
  },
  {
   "cell_type": "code",
   "execution_count": 8,
   "id": "1585791a",
   "metadata": {},
   "outputs": [
    {
     "data": {
      "text/plain": [
       "Index(['Recnum', 'Cardnum', 'Date', 'Merchnum', 'Merch description',\n",
       "       'Merch state', 'Merch zip', 'Transtype', 'Amount', 'Fraud'],\n",
       "      dtype='object')"
      ]
     },
     "execution_count": 8,
     "metadata": {},
     "output_type": "execute_result"
    }
   ],
   "source": [
    "data.columns"
   ]
  },
  {
   "cell_type": "code",
   "execution_count": 9,
   "id": "3605c0ea",
   "metadata": {},
   "outputs": [],
   "source": [
    "# Changing Datatypes\n",
    "data['Date'] = pd.to_datetime(data['Date'])\n",
    "data['Merchnum']: lambda x: str(x)"
   ]
  },
  {
   "cell_type": "code",
   "execution_count": 10,
   "id": "691d37c5",
   "metadata": {
    "scrolled": true
   },
   "outputs": [
    {
     "data": {
      "text/plain": [
       "Recnum                        int64\n",
       "Cardnum                       int64\n",
       "Date                 datetime64[ns]\n",
       "Merchnum                     object\n",
       "Merch description            object\n",
       "Merch state                  object\n",
       "Merch zip                   float64\n",
       "Transtype                    object\n",
       "Amount                      float64\n",
       "Fraud                         int64\n",
       "dtype: object"
      ]
     },
     "execution_count": 10,
     "metadata": {},
     "output_type": "execute_result"
    }
   ],
   "source": [
    "data.dtypes"
   ]
  },
  {
   "cell_type": "code",
   "execution_count": 11,
   "id": "aaf3c024",
   "metadata": {},
   "outputs": [
    {
     "data": {
      "text/html": [
       "<div>\n",
       "<style scoped>\n",
       "    .dataframe tbody tr th:only-of-type {\n",
       "        vertical-align: middle;\n",
       "    }\n",
       "\n",
       "    .dataframe tbody tr th {\n",
       "        vertical-align: top;\n",
       "    }\n",
       "\n",
       "    .dataframe thead th {\n",
       "        text-align: right;\n",
       "    }\n",
       "</style>\n",
       "<table border=\"1\" class=\"dataframe\">\n",
       "  <thead>\n",
       "    <tr style=\"text-align: right;\">\n",
       "      <th></th>\n",
       "      <th>Recnum</th>\n",
       "      <th>Cardnum</th>\n",
       "      <th>Merch zip</th>\n",
       "      <th>Amount</th>\n",
       "      <th>Fraud</th>\n",
       "    </tr>\n",
       "  </thead>\n",
       "  <tbody>\n",
       "    <tr>\n",
       "      <th>count</th>\n",
       "      <td>96753.000000</td>\n",
       "      <td>9.675300e+04</td>\n",
       "      <td>92097.000000</td>\n",
       "      <td>9.675300e+04</td>\n",
       "      <td>96753.000000</td>\n",
       "    </tr>\n",
       "    <tr>\n",
       "      <th>mean</th>\n",
       "      <td>48377.000000</td>\n",
       "      <td>5.142202e+09</td>\n",
       "      <td>44706.596740</td>\n",
       "      <td>4.278857e+02</td>\n",
       "      <td>0.010945</td>\n",
       "    </tr>\n",
       "    <tr>\n",
       "      <th>std</th>\n",
       "      <td>27930.329635</td>\n",
       "      <td>5.567084e+04</td>\n",
       "      <td>28369.537945</td>\n",
       "      <td>1.000614e+04</td>\n",
       "      <td>0.104047</td>\n",
       "    </tr>\n",
       "    <tr>\n",
       "      <th>min</th>\n",
       "      <td>1.000000</td>\n",
       "      <td>5.142110e+09</td>\n",
       "      <td>1.000000</td>\n",
       "      <td>1.000000e-02</td>\n",
       "      <td>0.000000</td>\n",
       "    </tr>\n",
       "    <tr>\n",
       "      <th>25%</th>\n",
       "      <td>24189.000000</td>\n",
       "      <td>5.142152e+09</td>\n",
       "      <td>20855.000000</td>\n",
       "      <td>3.348000e+01</td>\n",
       "      <td>0.000000</td>\n",
       "    </tr>\n",
       "    <tr>\n",
       "      <th>50%</th>\n",
       "      <td>48377.000000</td>\n",
       "      <td>5.142196e+09</td>\n",
       "      <td>38118.000000</td>\n",
       "      <td>1.379800e+02</td>\n",
       "      <td>0.000000</td>\n",
       "    </tr>\n",
       "    <tr>\n",
       "      <th>75%</th>\n",
       "      <td>72565.000000</td>\n",
       "      <td>5.142246e+09</td>\n",
       "      <td>63103.000000</td>\n",
       "      <td>4.282000e+02</td>\n",
       "      <td>0.000000</td>\n",
       "    </tr>\n",
       "    <tr>\n",
       "      <th>max</th>\n",
       "      <td>96753.000000</td>\n",
       "      <td>5.142847e+09</td>\n",
       "      <td>99999.000000</td>\n",
       "      <td>3.102046e+06</td>\n",
       "      <td>1.000000</td>\n",
       "    </tr>\n",
       "  </tbody>\n",
       "</table>\n",
       "</div>"
      ],
      "text/plain": [
       "             Recnum       Cardnum     Merch zip        Amount         Fraud\n",
       "count  96753.000000  9.675300e+04  92097.000000  9.675300e+04  96753.000000\n",
       "mean   48377.000000  5.142202e+09  44706.596740  4.278857e+02      0.010945\n",
       "std    27930.329635  5.567084e+04  28369.537945  1.000614e+04      0.104047\n",
       "min        1.000000  5.142110e+09      1.000000  1.000000e-02      0.000000\n",
       "25%    24189.000000  5.142152e+09  20855.000000  3.348000e+01      0.000000\n",
       "50%    48377.000000  5.142196e+09  38118.000000  1.379800e+02      0.000000\n",
       "75%    72565.000000  5.142246e+09  63103.000000  4.282000e+02      0.000000\n",
       "max    96753.000000  5.142847e+09  99999.000000  3.102046e+06      1.000000"
      ]
     },
     "execution_count": 11,
     "metadata": {},
     "output_type": "execute_result"
    }
   ],
   "source": [
    "data.describe()"
   ]
  },
  {
   "cell_type": "code",
   "execution_count": 12,
   "id": "5d059491",
   "metadata": {
    "scrolled": true
   },
   "outputs": [
    {
     "data": {
      "text/plain": [
       "Recnum               96753\n",
       "Cardnum              96753\n",
       "Date                 96753\n",
       "Merchnum             93378\n",
       "Merch description    96753\n",
       "Merch state          95558\n",
       "Merch zip            92097\n",
       "Transtype            96753\n",
       "Amount               96753\n",
       "Fraud                96753\n",
       "dtype: int64"
      ]
     },
     "execution_count": 12,
     "metadata": {},
     "output_type": "execute_result"
    }
   ],
   "source": [
    "data.count()"
   ]
  },
  {
   "cell_type": "code",
   "execution_count": 13,
   "id": "e6b201f4",
   "metadata": {
    "scrolled": true
   },
   "outputs": [
    {
     "name": "stdout",
     "output_type": "stream",
     "text": [
      "<class 'pandas.core.frame.DataFrame'>\n",
      "RangeIndex: 96753 entries, 0 to 96752\n",
      "Data columns (total 10 columns):\n",
      " #   Column             Non-Null Count  Dtype         \n",
      "---  ------             --------------  -----         \n",
      " 0   Recnum             96753 non-null  int64         \n",
      " 1   Cardnum            96753 non-null  int64         \n",
      " 2   Date               96753 non-null  datetime64[ns]\n",
      " 3   Merchnum           93378 non-null  object        \n",
      " 4   Merch description  96753 non-null  object        \n",
      " 5   Merch state        95558 non-null  object        \n",
      " 6   Merch zip          92097 non-null  float64       \n",
      " 7   Transtype          96753 non-null  object        \n",
      " 8   Amount             96753 non-null  float64       \n",
      " 9   Fraud              96753 non-null  int64         \n",
      "dtypes: datetime64[ns](1), float64(2), int64(3), object(4)\n",
      "memory usage: 7.4+ MB\n"
     ]
    }
   ],
   "source": [
    "data.info()"
   ]
  },
  {
   "cell_type": "code",
   "execution_count": 14,
   "id": "f30566f1",
   "metadata": {},
   "outputs": [
    {
     "data": {
      "text/plain": [
       "96753"
      ]
     },
     "execution_count": 14,
     "metadata": {},
     "output_type": "execute_result"
    }
   ],
   "source": [
    "numrecords = len(data)\n",
    "numrecords"
   ]
  },
  {
   "cell_type": "markdown",
   "id": "65b7c339",
   "metadata": {},
   "source": [
    "Note: Merchnum, Merch state and Merch zip have missing values"
   ]
  },
  {
   "cell_type": "code",
   "execution_count": 16,
   "id": "a856e426",
   "metadata": {},
   "outputs": [],
   "source": [
    "df = data.copy()"
   ]
  },
  {
   "cell_type": "markdown",
   "id": "e4aa388b",
   "metadata": {
    "scrolled": false
   },
   "source": [
    "# Data Preparation"
   ]
  },
  {
   "cell_type": "markdown",
   "id": "50532891",
   "metadata": {},
   "source": [
    "## Excluding bad records"
   ]
  },
  {
   "cell_type": "code",
   "execution_count": 18,
   "id": "d7d09461",
   "metadata": {},
   "outputs": [],
   "source": [
    "temp = (df[df['Merch zip'].notna()]['Merch zip'].astype(float)).astype(int)\n",
    "temp2 = temp.apply(lambda x: '{0:0>5}'.format(x))\n",
    "temp3 = pd.DataFrame(temp2.astype('str'))"
   ]
  },
  {
   "cell_type": "code",
   "execution_count": 19,
   "id": "d17f760d",
   "metadata": {},
   "outputs": [],
   "source": [
    "df = df.merge(temp3, how='left', left_index= True, right_index= True)"
   ]
  },
  {
   "cell_type": "code",
   "execution_count": 20,
   "id": "2d478a15",
   "metadata": {},
   "outputs": [],
   "source": [
    "df.drop(['Merch zip_x'],axis=1, inplace=True)"
   ]
  },
  {
   "cell_type": "code",
   "execution_count": 21,
   "id": "06830c5c",
   "metadata": {},
   "outputs": [],
   "source": [
    "df.columns = ['Recnum', 'Cardnum', 'Date', 'Merchnum', 'Merch description',\n",
    "       'Merch state', 'Transtype', 'Amount', 'Fraud', 'Merch zip']"
   ]
  },
  {
   "cell_type": "code",
   "execution_count": 22,
   "id": "1112011d",
   "metadata": {},
   "outputs": [],
   "source": [
    "cols = ['Recnum', 'Cardnum', 'Date', 'Merchnum', 'Merch description',\n",
    "       'Merch state','Merch zip', 'Transtype', 'Amount', 'Fraud']\n",
    "df = df[cols]"
   ]
  },
  {
   "cell_type": "markdown",
   "id": "3065dbc9",
   "metadata": {},
   "source": [
    "### Removing all but \"P\" type of transactions"
   ]
  },
  {
   "cell_type": "code",
   "execution_count": 23,
   "id": "f3c2f4aa",
   "metadata": {
    "scrolled": true
   },
   "outputs": [
    {
     "data": {
      "text/plain": [
       "P    96398\n",
       "A      181\n",
       "D      173\n",
       "Y        1\n",
       "Name: Transtype, dtype: int64"
      ]
     },
     "execution_count": 23,
     "metadata": {},
     "output_type": "execute_result"
    }
   ],
   "source": [
    "df['Transtype'].value_counts()"
   ]
  },
  {
   "cell_type": "code",
   "execution_count": 24,
   "id": "bd22e0d2",
   "metadata": {},
   "outputs": [],
   "source": [
    "# Keeping just \"P\" type of transactions\n",
    "df = df[df[\"Transtype\"] == 'P']"
   ]
  },
  {
   "cell_type": "code",
   "execution_count": 25,
   "id": "36a501e3",
   "metadata": {},
   "outputs": [
    {
     "data": {
      "text/plain": [
       "(96398, 10)"
      ]
     },
     "execution_count": 25,
     "metadata": {},
     "output_type": "execute_result"
    }
   ],
   "source": [
    "df.shape"
   ]
  },
  {
   "cell_type": "code",
   "execution_count": 26,
   "id": "ede57710",
   "metadata": {},
   "outputs": [
    {
     "data": {
      "text/plain": [
       "count      96398.00\n",
       "mean         428.03\n",
       "std        10024.46\n",
       "min            0.01\n",
       "25%           33.46\n",
       "50%          137.98\n",
       "75%          428.25\n",
       "max      3102045.53\n",
       "Name: Amount, dtype: float64"
      ]
     },
     "execution_count": 26,
     "metadata": {},
     "output_type": "execute_result"
    }
   ],
   "source": [
    "df['Amount'].describe().round(2)"
   ]
  },
  {
   "cell_type": "code",
   "execution_count": 27,
   "id": "1cd690e9",
   "metadata": {},
   "outputs": [
    {
     "data": {
      "text/html": [
       "<div>\n",
       "<style scoped>\n",
       "    .dataframe tbody tr th:only-of-type {\n",
       "        vertical-align: middle;\n",
       "    }\n",
       "\n",
       "    .dataframe tbody tr th {\n",
       "        vertical-align: top;\n",
       "    }\n",
       "\n",
       "    .dataframe thead th {\n",
       "        text-align: right;\n",
       "    }\n",
       "</style>\n",
       "<table border=\"1\" class=\"dataframe\">\n",
       "  <thead>\n",
       "    <tr style=\"text-align: right;\">\n",
       "      <th></th>\n",
       "      <th>Recnum</th>\n",
       "      <th>Cardnum</th>\n",
       "      <th>Date</th>\n",
       "      <th>Merchnum</th>\n",
       "      <th>Merch description</th>\n",
       "      <th>Merch state</th>\n",
       "      <th>Merch zip</th>\n",
       "      <th>Transtype</th>\n",
       "      <th>Amount</th>\n",
       "      <th>Fraud</th>\n",
       "    </tr>\n",
       "  </thead>\n",
       "  <tbody>\n",
       "    <tr>\n",
       "      <th>52714</th>\n",
       "      <td>52715</td>\n",
       "      <td>5142189135</td>\n",
       "      <td>2006-07-13</td>\n",
       "      <td>NaN</td>\n",
       "      <td>INTERMEXICO</td>\n",
       "      <td>NaN</td>\n",
       "      <td>NaN</td>\n",
       "      <td>P</td>\n",
       "      <td>3102045.53</td>\n",
       "      <td>0</td>\n",
       "    </tr>\n",
       "  </tbody>\n",
       "</table>\n",
       "</div>"
      ],
      "text/plain": [
       "       Recnum     Cardnum       Date Merchnum Merch description Merch state  \\\n",
       "52714   52715  5142189135 2006-07-13      NaN       INTERMEXICO         NaN   \n",
       "\n",
       "      Merch zip Transtype      Amount  Fraud  \n",
       "52714       NaN         P  3102045.53      0  "
      ]
     },
     "execution_count": 27,
     "metadata": {},
     "output_type": "execute_result"
    }
   ],
   "source": [
    "df[df[\"Amount\"] == df[\"Amount\"].max()]"
   ]
  },
  {
   "cell_type": "markdown",
   "id": "b1345d04",
   "metadata": {},
   "source": [
    "### Removing the outlier in Amount field"
   ]
  },
  {
   "cell_type": "code",
   "execution_count": 28,
   "id": "3d297673",
   "metadata": {},
   "outputs": [],
   "source": [
    "# Removing the outlier in Amount field\n",
    "df.drop(52714, axis=0, inplace=True)"
   ]
  },
  {
   "cell_type": "code",
   "execution_count": 29,
   "id": "d22cafc8",
   "metadata": {},
   "outputs": [
    {
     "data": {
      "text/plain": [
       "(96397, 10)"
      ]
     },
     "execution_count": 29,
     "metadata": {},
     "output_type": "execute_result"
    }
   ],
   "source": [
    "df.shape"
   ]
  },
  {
   "cell_type": "code",
   "execution_count": 30,
   "id": "a8be0950",
   "metadata": {},
   "outputs": [
    {
     "data": {
      "text/plain": [
       "count    96397.00\n",
       "mean       395.86\n",
       "std        832.33\n",
       "min          0.01\n",
       "25%         33.46\n",
       "50%        137.98\n",
       "75%        428.25\n",
       "max      47900.00\n",
       "Name: Amount, dtype: float64"
      ]
     },
     "execution_count": 30,
     "metadata": {},
     "output_type": "execute_result"
    }
   ],
   "source": [
    "df['Amount'].describe().round(2)"
   ]
  },
  {
   "cell_type": "markdown",
   "id": "71536887",
   "metadata": {},
   "source": [
    "## Imputing missing values"
   ]
  },
  {
   "cell_type": "markdown",
   "id": "c2e00ef9",
   "metadata": {},
   "source": [
    "### Filling in Merchnum"
   ]
  },
  {
   "cell_type": "code",
   "execution_count": 31,
   "id": "a6bc9739",
   "metadata": {},
   "outputs": [],
   "source": [
    "merchdes_merchnum = {}\n",
    "for index, merchdes in df[df['Merch description'].notnull()]['Merch description'].items():\n",
    "    if merchdes not in merchdes_merchnum :\n",
    "        merchdes_merchnum[merchdes] = df.loc[index, 'Merchnum']"
   ]
  },
  {
   "cell_type": "code",
   "execution_count": 32,
   "id": "6c790eaf",
   "metadata": {},
   "outputs": [],
   "source": [
    "# fill in by mapping with Merch description\n",
    "df['Merchnum'] = df['Merchnum'].fillna(df['Merch description'].map(merchdes_merchnum))"
   ]
  },
  {
   "cell_type": "code",
   "execution_count": 33,
   "id": "1ac3647d",
   "metadata": {},
   "outputs": [],
   "source": [
    "# assign unknown for adjustments transactions\n",
    "df['Merchnum'] = df['Merchnum'].mask(df['Merch description'] == 'RETAIL CREDIT ADJUSTMENT', 'unknown')\n",
    "df['Merchnum'] = df['Merchnum'].mask(df['Merch description'] == 'RETAIL DEBIT ADJUSTMENT', 'unknown')"
   ]
  },
  {
   "cell_type": "markdown",
   "id": "9e3ef04b",
   "metadata": {},
   "source": [
    "### Filling in Merch Zip"
   ]
  },
  {
   "cell_type": "code",
   "execution_count": 34,
   "id": "1dd21948",
   "metadata": {},
   "outputs": [],
   "source": [
    "merchnum_zip = {}\n",
    "for index, merchnum in df[df['Merchnum'].notnull()]['Merchnum'].items():\n",
    "    if merchnum not in merchnum_zip :\n",
    "        merchnum_zip[merchnum] = df.loc[index, 'Merch zip']\n",
    "\n",
    "merchdes_zip = {}\n",
    "for index, merchdes in df[df['Merch description'].notnull()]['Merch description'].items():\n",
    "    if merchdes not in merchdes_zip :\n",
    "        merchdes_zip[merchdes] = df.loc[index, 'Merch zip']\n"
   ]
  },
  {
   "cell_type": "code",
   "execution_count": 35,
   "id": "165b470e",
   "metadata": {
    "scrolled": false
   },
   "outputs": [
    {
     "name": "stdout",
     "output_type": "stream",
     "text": [
      "<class 'pandas.core.frame.DataFrame'>\n",
      "Int64Index: 96397 entries, 0 to 96752\n",
      "Data columns (total 10 columns):\n",
      " #   Column             Non-Null Count  Dtype         \n",
      "---  ------             --------------  -----         \n",
      " 0   Recnum             96397 non-null  int64         \n",
      " 1   Cardnum            96397 non-null  int64         \n",
      " 2   Date               96397 non-null  datetime64[ns]\n",
      " 3   Merchnum           96397 non-null  object        \n",
      " 4   Merch description  96397 non-null  object        \n",
      " 5   Merch state        96397 non-null  object        \n",
      " 6   Merch zip          96397 non-null  object        \n",
      " 7   Transtype          96397 non-null  object        \n",
      " 8   Amount             96397 non-null  float64       \n",
      " 9   Fraud              96397 non-null  int64         \n",
      "dtypes: datetime64[ns](1), float64(1), int64(3), object(5)\n",
      "memory usage: 10.1+ MB\n"
     ]
    }
   ],
   "source": [
    "# fill in by mapping with merchnum and merch description\n",
    "df['Merch zip'] = df['Merch zip'].fillna(df['Merchnum'].map(merchnum_zip))\n",
    "df['Merch zip'] = df['Merch zip'].fillna(df['Merch description'].map(merchdes_zip))\n",
    "\n",
    "# assign unknown for adjustments transactions\n",
    "df['Merch zip'] = df['Merch zip'].mask(df['Merch zip'] == 'RETAIL CREDIT ADJUSTMENT', 'unknown')\n",
    "df['Merch zip'] = df['Merch zip'].mask(df['Merch zip'] == 'RETAIL DEBIT ADJUSTMENT', 'unknown')\n",
    "\n",
    "# fill the rest with unknown\n",
    "df = df.fillna('unknown')\n",
    "df.info()\n"
   ]
  },
  {
   "cell_type": "markdown",
   "id": "df47056e",
   "metadata": {},
   "source": [
    "### Merch State"
   ]
  },
  {
   "cell_type": "code",
   "execution_count": 36,
   "id": "9c7865c1",
   "metadata": {},
   "outputs": [],
   "source": [
    "zip_state = {}\n",
    "for index, zip5 in df[df['Merch zip'].notnull()]['Merch zip'].items():\n",
    "    if zip5 not in zip_state:\n",
    "        zip_state[zip5] = df.loc[index, 'Merch state']\n",
    "        \n",
    "zip_state['00926'] = 'PR'\n",
    "zip_state['00929'] = 'PR'\n",
    "zip_state['00934'] = 'PR'\n",
    "zip_state['00902'] = 'PR'\n",
    "zip_state['00738'] = 'PR'\n",
    "zip_state['90805'] = 'CA'\n",
    "zip_state['76302'] = 'TX'\n",
    "zip_state['00914'] = 'PR'\n",
    "zip_state['95461'] = 'CA'\n",
    "zip_state['00680'] = 'PR'\n",
    "zip_state['00623'] = 'PR'\n",
    "zip_state['00726'] = 'PR'\n",
    "zip_state['00936'] = 'PR'\n",
    "zip_state['12108'] = 'NY'\n",
    "zip_state['00791'] = 'PR'\n",
    "zip_state['00907'] = 'PR'\n",
    "zip_state['00922'] = 'PR'\n",
    "zip_state['00920'] = 'PR'\n",
    "zip_state['00801'] = 'VI'\n",
    "zip_state['31040'] = 'GA'\n",
    "zip_state['41160'] = 'KY'\n",
    "zip_state['00681'] = 'PR'"
   ]
  },
  {
   "cell_type": "code",
   "execution_count": 37,
   "id": "df686669",
   "metadata": {},
   "outputs": [],
   "source": [
    "merchnum_state = {}\n",
    "for index, merchnum in df[df['Merchnum'].notnull()]['Merchnum'].items():\n",
    "    if merchnum not in merchnum_state :\n",
    "        merchnum_state[merchnum] = df.loc[index, 'Merch state']\n",
    "\n",
    "merchdes_state = {}\n",
    "for index, merchdes in df[df['Merch description'].notnull()]['Merch description'].items():\n",
    "    if merchdes not in merchdes_state :\n",
    "        merchdes_state[merchdes] = df.loc[index, 'Merch state']\n",
    "\n",
    "# fill in by mapping with zip, merchnum and merch description\n",
    "df['Merch state'] = df['Merch state'].fillna(df['Merch zip'].map(zip_state))\n",
    "df['Merch state'] = df['Merch state'].fillna(df['Merchnum'].map(merchnum_state))\n",
    "df['Merch state'] = df['Merch state'].fillna(df['Merch description'].map(merchdes_state))\n",
    "\n",
    "# assign unknown for adjustments transactions\n",
    "df['Merch state'] = df['Merch state'].mask(df['Merch description'] == 'RETAIL CREDIT ADJUSTMENT', 'unknown')\n",
    "df['Merch state'] = df['Merch state'].mask(df['Merch description'] == 'RETAIL DEBIT ADJUSTMENT', 'unknown')"
   ]
  },
  {
   "cell_type": "code",
   "execution_count": 38,
   "id": "2a6bdcea",
   "metadata": {},
   "outputs": [
    {
     "data": {
      "text/plain": [
       "Recnum               0\n",
       "Cardnum              0\n",
       "Date                 0\n",
       "Merchnum             0\n",
       "Merch description    0\n",
       "Merch state          0\n",
       "Merch zip            0\n",
       "Transtype            0\n",
       "Amount               0\n",
       "Fraud                0\n",
       "dtype: int64"
      ]
     },
     "execution_count": 38,
     "metadata": {},
     "output_type": "execute_result"
    }
   ],
   "source": [
    "df.isna().sum()"
   ]
  },
  {
   "cell_type": "code",
   "execution_count": 39,
   "id": "fb7c29bc",
   "metadata": {},
   "outputs": [
    {
     "data": {
      "text/plain": [
       "(96397, 10)"
      ]
     },
     "execution_count": 39,
     "metadata": {},
     "output_type": "execute_result"
    }
   ],
   "source": [
    "df.shape"
   ]
  },
  {
   "cell_type": "markdown",
   "id": "4e7a8910",
   "metadata": {},
   "source": [
    "## Creating Variables"
   ]
  },
  {
   "cell_type": "markdown",
   "id": "75439146",
   "metadata": {},
   "source": [
    "### Risk table variables"
   ]
  },
  {
   "cell_type": "code",
   "execution_count": 110,
   "id": "34f157af",
   "metadata": {},
   "outputs": [
    {
     "name": "stdout",
     "output_type": "stream",
     "text": [
      "run time: 0.4280434580000474s\n"
     ]
    }
   ],
   "source": [
    "start = timeit.default_timer()\n",
    "df['dow'] = df.Date.apply(lambda x: calendar.day_name[x.weekday()])\n",
    "print('run time: {}s'.format(timeit.default_timer() - start))"
   ]
  },
  {
   "cell_type": "code",
   "execution_count": 41,
   "id": "34419f09",
   "metadata": {},
   "outputs": [
    {
     "data": {
      "text/html": [
       "<div>\n",
       "<style scoped>\n",
       "    .dataframe tbody tr th:only-of-type {\n",
       "        vertical-align: middle;\n",
       "    }\n",
       "\n",
       "    .dataframe tbody tr th {\n",
       "        vertical-align: top;\n",
       "    }\n",
       "\n",
       "    .dataframe thead th {\n",
       "        text-align: right;\n",
       "    }\n",
       "</style>\n",
       "<table border=\"1\" class=\"dataframe\">\n",
       "  <thead>\n",
       "    <tr style=\"text-align: right;\">\n",
       "      <th></th>\n",
       "      <th>Recnum</th>\n",
       "      <th>Cardnum</th>\n",
       "      <th>Date</th>\n",
       "      <th>Merchnum</th>\n",
       "      <th>Merch description</th>\n",
       "      <th>Merch state</th>\n",
       "      <th>Merch zip</th>\n",
       "      <th>Transtype</th>\n",
       "      <th>Amount</th>\n",
       "      <th>Fraud</th>\n",
       "      <th>dow</th>\n",
       "    </tr>\n",
       "  </thead>\n",
       "  <tbody>\n",
       "    <tr>\n",
       "      <th>0</th>\n",
       "      <td>1</td>\n",
       "      <td>5142190439</td>\n",
       "      <td>2006-01-01</td>\n",
       "      <td>5509006296254</td>\n",
       "      <td>FEDEX SHP 12/23/09 AB#</td>\n",
       "      <td>TN</td>\n",
       "      <td>38118</td>\n",
       "      <td>P</td>\n",
       "      <td>3.62</td>\n",
       "      <td>0</td>\n",
       "      <td>Sunday</td>\n",
       "    </tr>\n",
       "    <tr>\n",
       "      <th>1</th>\n",
       "      <td>2</td>\n",
       "      <td>5142183973</td>\n",
       "      <td>2006-01-01</td>\n",
       "      <td>61003026333</td>\n",
       "      <td>SERVICE MERCHANDISE #81</td>\n",
       "      <td>MA</td>\n",
       "      <td>01803</td>\n",
       "      <td>P</td>\n",
       "      <td>31.42</td>\n",
       "      <td>0</td>\n",
       "      <td>Sunday</td>\n",
       "    </tr>\n",
       "    <tr>\n",
       "      <th>2</th>\n",
       "      <td>3</td>\n",
       "      <td>5142131721</td>\n",
       "      <td>2006-01-01</td>\n",
       "      <td>4503082993600</td>\n",
       "      <td>OFFICE DEPOT #191</td>\n",
       "      <td>MD</td>\n",
       "      <td>20706</td>\n",
       "      <td>P</td>\n",
       "      <td>178.49</td>\n",
       "      <td>0</td>\n",
       "      <td>Sunday</td>\n",
       "    </tr>\n",
       "    <tr>\n",
       "      <th>3</th>\n",
       "      <td>4</td>\n",
       "      <td>5142148452</td>\n",
       "      <td>2006-01-01</td>\n",
       "      <td>5509006296254</td>\n",
       "      <td>FEDEX SHP 12/28/09 AB#</td>\n",
       "      <td>TN</td>\n",
       "      <td>38118</td>\n",
       "      <td>P</td>\n",
       "      <td>3.62</td>\n",
       "      <td>0</td>\n",
       "      <td>Sunday</td>\n",
       "    </tr>\n",
       "    <tr>\n",
       "      <th>4</th>\n",
       "      <td>5</td>\n",
       "      <td>5142190439</td>\n",
       "      <td>2006-01-01</td>\n",
       "      <td>5509006296254</td>\n",
       "      <td>FEDEX SHP 12/23/09 AB#</td>\n",
       "      <td>TN</td>\n",
       "      <td>38118</td>\n",
       "      <td>P</td>\n",
       "      <td>3.62</td>\n",
       "      <td>0</td>\n",
       "      <td>Sunday</td>\n",
       "    </tr>\n",
       "  </tbody>\n",
       "</table>\n",
       "</div>"
      ],
      "text/plain": [
       "   Recnum     Cardnum       Date       Merchnum        Merch description  \\\n",
       "0       1  5142190439 2006-01-01  5509006296254   FEDEX SHP 12/23/09 AB#   \n",
       "1       2  5142183973 2006-01-01    61003026333  SERVICE MERCHANDISE #81   \n",
       "2       3  5142131721 2006-01-01  4503082993600        OFFICE DEPOT #191   \n",
       "3       4  5142148452 2006-01-01  5509006296254   FEDEX SHP 12/28/09 AB#   \n",
       "4       5  5142190439 2006-01-01  5509006296254   FEDEX SHP 12/23/09 AB#   \n",
       "\n",
       "  Merch state Merch zip Transtype  Amount  Fraud     dow  \n",
       "0          TN     38118         P    3.62      0  Sunday  \n",
       "1          MA     01803         P   31.42      0  Sunday  \n",
       "2          MD     20706         P  178.49      0  Sunday  \n",
       "3          TN     38118         P    3.62      0  Sunday  \n",
       "4          TN     38118         P    3.62      0  Sunday  "
      ]
     },
     "execution_count": 41,
     "metadata": {},
     "output_type": "execute_result"
    }
   ],
   "source": [
    "train_test = df[df.Date < '2006-11-01']\n",
    "train_test.head()"
   ]
  },
  {
   "cell_type": "code",
   "execution_count": 42,
   "id": "2ea445c9",
   "metadata": {},
   "outputs": [
    {
     "data": {
      "text/plain": [
       "(83970, 11)"
      ]
     },
     "execution_count": 42,
     "metadata": {},
     "output_type": "execute_result"
    }
   ],
   "source": [
    "train_test.shape"
   ]
  },
  {
   "cell_type": "markdown",
   "id": "7d582871",
   "metadata": {},
   "source": [
    "#### Day of Week"
   ]
  },
  {
   "cell_type": "code",
   "execution_count": 111,
   "id": "09e6f65f",
   "metadata": {},
   "outputs": [
    {
     "name": "stdout",
     "output_type": "stream",
     "text": [
      "run time: 0.0396408340002381s\n"
     ]
    }
   ],
   "source": [
    "start = timeit.default_timer()\n",
    "c = 3\n",
    "nmid = 15\n",
    "y_avg = train_test['Fraud'].mean()\n",
    "y_dow = train_test.groupby('dow')['Fraud'].mean()\n",
    "\n",
    "num = train_test.groupby('dow').size()\n",
    "y_dow_smooth = y_avg + (y_dow - y_avg)/(1 + np.exp(-(num - nmid)/c))\n",
    "df['low_risk'] = df.dow.map(y_dow_smooth)\n",
    "print('run time: {}s'.format(timeit.default_timer() - start))"
   ]
  },
  {
   "cell_type": "code",
   "execution_count": 112,
   "id": "ffdb168c",
   "metadata": {},
   "outputs": [
    {
     "name": "stdout",
     "output_type": "stream",
     "text": [
      "run time: 0.00812020900002608s\n"
     ]
    }
   ],
   "source": [
    "start = timeit.default_timer()\n",
    "y_dow = y_dow.reset_index()\n",
    "cats = ['Monday','Tuesday','Wednesday','Thursday','Friday','Saturday','Sunday']\n",
    "y_dow['dow'] = pd.Categorical(y_dow['dow'], categories=cats, ordered=True)\n",
    "y_dow = y_dow.sort_values('dow')\n",
    "y_dow = y_dow.set_index('dow')\n",
    "print('run time: {}s'.format(timeit.default_timer() - start))"
   ]
  },
  {
   "cell_type": "code",
   "execution_count": 45,
   "id": "1f59d205",
   "metadata": {},
   "outputs": [
    {
     "data": {
      "image/png": "[encoded data removed]",
      "text/plain": [
       "<Figure size 1440x720 with 1 Axes>"
      ]
     },
     "metadata": {},
     "output_type": "display_data"
    }
   ],
   "source": [
    "plt.style.use('ggplot')\n",
    "fig, ax = plt.subplots(figsize=(20,10))\n",
    "plt.bar(data=y_dow, x=y_dow.index, height='Fraud', color='darkblue')\n",
    "ax.set_ylim(bottom=0.000)\n",
    "ax.axhline(y=y_avg, ls='--',lw=2)\n",
    "\n",
    "for i,v in enumerate(y_dow.index):\n",
    "    ax.text(v, y_dow.loc[i, 'Fraud'] + 0.0001, round(y_dow.loc[i, 'Fraud'], 5),\n",
    "           horizontalalignment = 'center', fontsize = 15)\n",
    "    \n",
    "ax.set_title('Fraud Proportion of Each day of week')\n",
    "ax.set_ylabel('Fruad Percentage')\n",
    "ax.set_xlabel('Day of week')\n",
    "    \n",
    "plt.show()"
   ]
  },
  {
   "cell_type": "markdown",
   "id": "c7821056",
   "metadata": {},
   "source": [
    "#### Merch State"
   ]
  },
  {
   "cell_type": "code",
   "execution_count": 46,
   "id": "8e106fe9",
   "metadata": {},
   "outputs": [],
   "source": [
    "c = 3\n",
    "nmid = 15\n",
    "y_avg = train_test['Fraud'].mean()\n",
    "y_merchState = train_test.groupby('Merch state')['Fraud'].mean()\n",
    "\n",
    "num = train_test.groupby('Merch state').size()\n",
    "y_merchState_smooth = y_avg + (y_merchState - y_avg)/(1 + np.exp(-(num - nmid)/c))\n",
    "df['y_merchState_risk'] = df['Merch state'].map(y_merchState_smooth)"
   ]
  },
  {
   "cell_type": "code",
   "execution_count": 47,
   "id": "7dd1fdab",
   "metadata": {},
   "outputs": [],
   "source": [
    "y_merchState = y_merchState.reset_index()\n",
    "y_merchState = y_merchState.sort_values('Merch state')\n",
    "y_merchState = y_merchState.set_index('Merch state')"
   ]
  },
  {
   "cell_type": "code",
   "execution_count": 48,
   "id": "d783b8f8",
   "metadata": {},
   "outputs": [
    {
     "data": {
      "image/png": "[encoded data removed]",
      "text/plain": [
       "<Figure size 1440x720 with 1 Axes>"
      ]
     },
     "metadata": {},
     "output_type": "display_data"
    }
   ],
   "source": [
    "plt.style.use('ggplot')\n",
    "fig, ax = plt.subplots(figsize=(20,10))\n",
    "top15 = y_merchState.sort_values(by='Fraud',ascending=False).head(15)\n",
    "plt.bar(data=top15, x=top15.index, height='Fraud', color='darkblue')\n",
    "ax.set_ylim(bottom=0.000)\n",
    "ax.axhline(y=y_avg, ls='--',lw=2)\n",
    "\n",
    "ax.set_title('Top 15 Fraud Merchant State with Highest Fraud Percentage')\n",
    "ax.set_ylabel('Fruad Percentage')\n",
    "ax.set_xlabel('Merchant state') \n",
    "        \n",
    "plt.show()"
   ]
  },
  {
   "cell_type": "markdown",
   "id": "5eb8bee6",
   "metadata": {},
   "source": [
    "### Benford's Law variables"
   ]
  },
  {
   "cell_type": "code",
   "execution_count": 49,
   "id": "924e57ab",
   "metadata": {},
   "outputs": [],
   "source": [
    "dftemp2 = df[df['Merch description'].str.match(r\"[Ff][Ee][Dd][Ee][Xx]\") == False].copy()\n",
    "dftemp2['Amount'] = dftemp2['Amount'].astype(str)"
   ]
  },
  {
   "cell_type": "code",
   "execution_count": 50,
   "id": "9e8c9bf5",
   "metadata": {},
   "outputs": [
    {
     "data": {
      "text/plain": [
       "(84622, 13)"
      ]
     },
     "execution_count": 50,
     "metadata": {},
     "output_type": "execute_result"
    }
   ],
   "source": [
    "dftemp2.shape"
   ]
  },
  {
   "cell_type": "code",
   "execution_count": 52,
   "id": "4ddfa2a3",
   "metadata": {},
   "outputs": [],
   "source": [
    "def n_low(df_test):\n",
    "    return ((df_test['Amount'].str.extract(r'([1-9])') == '1') | (df_test['Amount'].str.extract(r'([1-9])') == '2')).sum()"
   ]
  },
  {
   "cell_type": "markdown",
   "id": "2f8e19f9",
   "metadata": {},
   "source": [
    "#### Cardnum"
   ]
  },
  {
   "cell_type": "code",
   "execution_count": 113,
   "id": "744d5859",
   "metadata": {},
   "outputs": [
    {
     "name": "stdout",
     "output_type": "stream",
     "text": [
      "run time: 2.8704515419999552s\n"
     ]
    }
   ],
   "source": [
    "start = timeit.default_timer()\n",
    "\n",
    "cardnum = dftemp2.groupby('Cardnum').apply(n_low)\n",
    "cardnum['n'] = dftemp2.groupby('Cardnum')['Amount'].count()\n",
    "cardnum['n_low'] = dftemp2.groupby('Cardnum').apply(n_low)\n",
    "cardnum = cardnum[['n','n_low']]\n",
    "cardnum['n_high'] = cardnum['n'] - cardnum['n_low']\n",
    "cardnum['n_low'] = cardnum['n_low'].replace(0,1)\n",
    "cardnum['n_high'] = cardnum['n_high'].replace(0,1)\n",
    "\n",
    "cardnum['R'] = 1.096 * cardnum['n_low'] / cardnum['n_high']\n",
    "cardnum['1/R'] = 1/cardnum['R']\n",
    "cardnum['U'] = cardnum[['R','1/R']].max(axis=1)\n",
    "\n",
    "cardnum['t'] = (cardnum['n']-15)/3\n",
    "cardnum['U_star_card'] = 1 + ((cardnum['U']-1)/(1+ e**(-cardnum['t'])))\n",
    "\n",
    "# Pushing to csv for examination\n",
    "cardnum.sort_values('U_star_card', ascending = False)[0:40].to_csv('Top 40 Cardnum.csv')\n",
    "\n",
    "cardnum = cardnum.reset_index()\n",
    "print('run time: {}s'.format(timeit.default_timer() - start))"
   ]
  },
  {
   "cell_type": "markdown",
   "id": "463027ba",
   "metadata": {},
   "source": [
    "#### Merchnum"
   ]
  },
  {
   "cell_type": "code",
   "execution_count": 114,
   "id": "7b81198e",
   "metadata": {},
   "outputs": [
    {
     "name": "stdout",
     "output_type": "stream",
     "text": [
      "run time: 19.980415083000025s\n"
     ]
    }
   ],
   "source": [
    "start = timeit.default_timer()\n",
    "\n",
    "merchnums = dftemp2.groupby('Merchnum').apply(n_low)\n",
    "merchnums['n'] = dftemp2.groupby('Merchnum')['Amount'].count()\n",
    "merchnums['n_low'] = dftemp2.groupby('Merchnum').apply(n_low)\n",
    "merchnums = merchnums[['n','n_low']]\n",
    "merchnums['n_high'] = merchnums['n'] - merchnums['n_low']\n",
    "merchnums['n_low'] = merchnums['n_low'].replace(0,1)\n",
    "merchnums['n_high'] = merchnums['n_high'].replace(0,1)\n",
    "\n",
    "merchnums['R'] = 1.096 * merchnums['n_low'] / merchnums['n_high']\n",
    "merchnums['1/R'] = 1/merchnums['R']\n",
    "merchnums['U'] = merchnums[['R','1/R']].max(axis=1)\n",
    "\n",
    "merchnums['t'] = (merchnums['n']-15)/3\n",
    "merchnums['U_star_merch'] = 1 + ((merchnums['U']-1)/(1+ e**(-merchnums['t'])))\n",
    "\n",
    "# Pushing to csv for examination\n",
    "merchnums.sort_values('U_star_merch', ascending = False)[0:40].to_csv('Top 40 Merchnum.csv')\n",
    "merchnums = merchnums.reset_index()\n",
    "\n",
    "print('run time: {}s'.format(timeit.default_timer() - start))"
   ]
  },
  {
   "cell_type": "markdown",
   "id": "b11424a2",
   "metadata": {},
   "source": [
    "#### Merging tables part 1"
   ]
  },
  {
   "cell_type": "code",
   "execution_count": 64,
   "id": "2af56320",
   "metadata": {},
   "outputs": [],
   "source": [
    "dftemp3 = dftemp2.merge(cardnum, how='left', left_on='Cardnum', right_on='Cardnum')"
   ]
  },
  {
   "cell_type": "code",
   "execution_count": 65,
   "id": "56409309",
   "metadata": {
    "scrolled": true
   },
   "outputs": [
    {
     "data": {
      "text/plain": [
       "Index(['Recnum', 'Cardnum', 'Date', 'Merchnum', 'Merch description',\n",
       "       'Merch state', 'Merch zip', 'Transtype', 'Amount', 'Fraud', 'dow',\n",
       "       'low_risk', 'y_merchState_risk', 'n', 'n_low', 'n_high', 'R', '1/R',\n",
       "       'U', 't', 'U_star_card'],\n",
       "      dtype='object')"
      ]
     },
     "execution_count": 65,
     "metadata": {},
     "output_type": "execute_result"
    }
   ],
   "source": [
    "dftemp3.columns"
   ]
  },
  {
   "cell_type": "code",
   "execution_count": 66,
   "id": "b6e36515",
   "metadata": {},
   "outputs": [],
   "source": [
    "dftemp3.drop(['n', 'n_low', 'n_high', 'R', '1/R','U', 't'], axis=1, inplace=True)"
   ]
  },
  {
   "cell_type": "markdown",
   "id": "1d3e6665",
   "metadata": {},
   "source": [
    "#### Merging tables part 2"
   ]
  },
  {
   "cell_type": "code",
   "execution_count": 67,
   "id": "d5e5a969",
   "metadata": {},
   "outputs": [],
   "source": [
    "df4 = dftemp3.merge(merchnums, how='left', left_on='Merchnum', right_on='Merchnum')"
   ]
  },
  {
   "cell_type": "code",
   "execution_count": 68,
   "id": "effa1d94",
   "metadata": {},
   "outputs": [
    {
     "data": {
      "text/plain": [
       "Index(['Recnum', 'Cardnum', 'Date', 'Merchnum', 'Merch description',\n",
       "       'Merch state', 'Merch zip', 'Transtype', 'Amount', 'Fraud', 'dow',\n",
       "       'low_risk', 'y_merchState_risk', 'U_star_card', 'n', 'n_low', 'n_high',\n",
       "       'R', '1/R', 'U', 't', 'U_star_merch'],\n",
       "      dtype='object')"
      ]
     },
     "execution_count": 68,
     "metadata": {},
     "output_type": "execute_result"
    }
   ],
   "source": [
    "df4.columns"
   ]
  },
  {
   "cell_type": "code",
   "execution_count": 69,
   "id": "340e97f4",
   "metadata": {},
   "outputs": [],
   "source": [
    "df4.drop(['n', 'n_low', 'n_high','R', '1/R', 'U', 't'], axis=1, inplace=True)"
   ]
  },
  {
   "cell_type": "markdown",
   "id": "7ebcd74c",
   "metadata": {},
   "source": [
    "### Custom Variables"
   ]
  },
  {
   "cell_type": "code",
   "execution_count": 116,
   "id": "c3805655",
   "metadata": {},
   "outputs": [
    {
     "name": "stdout",
     "output_type": "stream",
     "text": [
      "run time: 0.3005313329999808s\n"
     ]
    }
   ],
   "source": [
    "start = timeit.default_timer()\n",
    "\n",
    "df4['card_merch'] = df4.Cardnum.astype('str') + df4.Merchnum\n",
    "df4['card_zip'] = df4.Cardnum.astype('str') + df4['Merch zip']\n",
    "df4['card_state'] = df4.Cardnum.astype('str') + df4['Merch state']\n",
    "df4['zip3'] = df4['Merch zip'].str[:3]\n",
    "df4['card_zip3'] = df4.Cardnum.astype('str') + df4['zip3']\n",
    "df4['merchnum_state'] = df4.Merchnum + df4['Merch state']\n",
    "df4['merchnum_zip'] = df4.Merchnum + df4['Merch zip']\n",
    "df4['merchnum_zip3'] = df4.Merchnum + df4['zip3']\n",
    "\n",
    "print('run time: {}s'.format(timeit.default_timer() - start))"
   ]
  },
  {
   "cell_type": "markdown",
   "id": "ee7044f0",
   "metadata": {},
   "source": [
    "### Other variables"
   ]
  },
  {
   "cell_type": "code",
   "execution_count": 77,
   "id": "50dbc457",
   "metadata": {},
   "outputs": [
    {
     "data": {
      "text/plain": [
       "['Cardnum',\n",
       " 'Merchnum',\n",
       " 'Merch description',\n",
       " 'Merch state',\n",
       " 'Merch zip',\n",
       " 'card_merch',\n",
       " 'card_zip',\n",
       " 'card_state',\n",
       " 'zip3',\n",
       " 'card_zip3',\n",
       " 'merchnum_state',\n",
       " 'merchnum_zip',\n",
       " 'merchnum_zip3']"
      ]
     },
     "execution_count": 77,
     "metadata": {},
     "output_type": "execute_result"
    }
   ],
   "source": [
    "attributes = list(df4.iloc[:, np.r_[1,3:7,15:23]].columns)\n",
    "attributes"
   ]
  },
  {
   "cell_type": "code",
   "execution_count": 78,
   "id": "4e4632ca",
   "metadata": {},
   "outputs": [],
   "source": [
    "# Change Datatype of amount from string to float\n",
    "df4.Amount = df4.Amount.astype('float')"
   ]
  },
  {
   "cell_type": "code",
   "execution_count": 79,
   "id": "81e2f072",
   "metadata": {},
   "outputs": [
    {
     "data": {
      "text/plain": [
       "(84622, 23)"
      ]
     },
     "execution_count": 79,
     "metadata": {},
     "output_type": "execute_result"
    }
   ],
   "source": [
    "# Creating copies and backup\n",
    "\n",
    "df1 = df4.copy()\n",
    "final = df4.copy()\n",
    "df1['check_date'] = df1.Date\n",
    "df1['check_record'] = df1.Recnum\n",
    "final.shape"
   ]
  },
  {
   "cell_type": "markdown",
   "id": "21940559",
   "metadata": {},
   "source": [
    "#### Day-since variables\n",
    "#### Frequency & Amount variables"
   ]
  },
  {
   "cell_type": "code",
   "execution_count": 84,
   "id": "2b977a79",
   "metadata": {
    "scrolled": true
   },
   "outputs": [
    {
     "name": "stdout",
     "output_type": "stream",
     "text": [
      "Run time for the last entity ----------------- 313.04131866700004s\n",
      "\n",
      "Cardnum_day_since ---> Done\n",
      "Cardnum_count_0 ---> Done\n",
      "Cardnum amount variables over past 0 ---> Done\n",
      "Cardnum_count_1 ---> Done\n",
      "Cardnum amount variables over past 1 ---> Done\n",
      "Cardnum_count_3 ---> Done\n",
      "Cardnum amount variables over past 3 ---> Done\n",
      "Cardnum_count_7 ---> Done\n",
      "Cardnum amount variables over past 7 ---> Done\n",
      "Cardnum_count_14 ---> Done\n",
      "Cardnum amount variables over past 14 ---> Done\n",
      "Cardnum_count_30 ---> Done\n",
      "Cardnum amount variables over past 30 ---> Done\n",
      "Cardnum_count_45 ---> Done\n",
      "Cardnum amount variables over past 45 ---> Done\n",
      "Cardnum_count_60 ---> Done\n",
      "Cardnum amount variables over past 60 ---> Done\n",
      "Cardnum_count_90 ---> Done\n",
      "Cardnum amount variables over past 90 ---> Done\n",
      "Total run time: 0.05631450693333211mins\n",
      "Run time for the last entity ----------------- 3.3779320000001007s\n",
      "\n",
      "Merchnum_day_since ---> Done\n",
      "Merchnum_count_0 ---> Done\n",
      "Merchnum amount variables over past 0 ---> Done\n",
      "Merchnum_count_1 ---> Done\n",
      "Merchnum amount variables over past 1 ---> Done\n",
      "Merchnum_count_3 ---> Done\n",
      "Merchnum amount variables over past 3 ---> Done\n",
      "Merchnum_count_7 ---> Done\n",
      "Merchnum amount variables over past 7 ---> Done\n",
      "Merchnum_count_14 ---> Done\n",
      "Merchnum amount variables over past 14 ---> Done\n",
      "Merchnum_count_30 ---> Done\n",
      "Merchnum amount variables over past 30 ---> Done\n",
      "Merchnum_count_45 ---> Done\n",
      "Merchnum amount variables over past 45 ---> Done\n",
      "Merchnum_count_60 ---> Done\n",
      "Merchnum amount variables over past 60 ---> Done\n",
      "Merchnum_count_90 ---> Done\n",
      "Merchnum amount variables over past 90 ---> Done\n",
      "Total run time: 0.1908595923500002mins\n",
      "Run time for the last entity ----------------- 8.072691415999998s\n",
      "\n",
      "Merch description_day_since ---> Done\n",
      "Merch description_count_0 ---> Done\n",
      "Merch description amount variables over past 0 ---> Done\n",
      "Merch description_count_1 ---> Done\n",
      "Merch description amount variables over past 1 ---> Done\n",
      "Merch description_count_3 ---> Done\n",
      "Merch description amount variables over past 3 ---> Done\n",
      "Merch description_count_7 ---> Done\n",
      "Merch description amount variables over past 7 ---> Done\n",
      "Merch description_count_14 ---> Done\n",
      "Merch description amount variables over past 14 ---> Done\n",
      "Merch description_count_30 ---> Done\n",
      "Merch description amount variables over past 30 ---> Done\n",
      "Merch description_count_45 ---> Done\n",
      "Merch description amount variables over past 45 ---> Done\n",
      "Merch description_count_60 ---> Done\n",
      "Merch description amount variables over past 60 ---> Done\n",
      "Merch description_count_90 ---> Done\n",
      "Merch description amount variables over past 90 ---> Done\n",
      "Total run time: 0.3033621673500003mins\n",
      "Run time for the last entity ----------------- 6.750147500000139s\n",
      "\n",
      "Merch state_day_since ---> Done\n",
      "Merch state_count_0 ---> Done\n",
      "Merch state amount variables over past 0 ---> Done\n",
      "Merch state_count_1 ---> Done\n",
      "Merch state amount variables over past 1 ---> Done\n",
      "Merch state_count_3 ---> Done\n",
      "Merch state amount variables over past 3 ---> Done\n",
      "Merch state_count_7 ---> Done\n",
      "Merch state amount variables over past 7 ---> Done\n",
      "Merch state_count_14 ---> Done\n",
      "Merch state amount variables over past 14 ---> Done\n",
      "Merch state_count_30 ---> Done\n",
      "Merch state amount variables over past 30 ---> Done\n",
      "Merch state_count_45 ---> Done\n",
      "Merch state amount variables over past 45 ---> Done\n",
      "Merch state_count_60 ---> Done\n",
      "Merch state amount variables over past 60 ---> Done\n",
      "Merch state_count_90 ---> Done\n",
      "Merch state amount variables over past 90 ---> Done\n",
      "Total run time: 5.321628171516666mins\n",
      "Run time for the last entity ----------------- 301.09619487500004s\n",
      "\n",
      "Merch zip_day_since ---> Done\n",
      "Merch zip_count_0 ---> Done\n",
      "Merch zip amount variables over past 0 ---> Done\n",
      "Merch zip_count_1 ---> Done\n",
      "Merch zip amount variables over past 1 ---> Done\n",
      "Merch zip_count_3 ---> Done\n",
      "Merch zip amount variables over past 3 ---> Done\n",
      "Merch zip_count_7 ---> Done\n",
      "Merch zip amount variables over past 7 ---> Done\n",
      "Merch zip_count_14 ---> Done\n",
      "Merch zip amount variables over past 14 ---> Done\n",
      "Merch zip_count_30 ---> Done\n",
      "Merch zip amount variables over past 30 ---> Done\n",
      "Merch zip_count_45 ---> Done\n",
      "Merch zip amount variables over past 45 ---> Done\n",
      "Merch zip_count_60 ---> Done\n",
      "Merch zip amount variables over past 60 ---> Done\n",
      "Merch zip_count_90 ---> Done\n",
      "Merch zip amount variables over past 90 ---> Done\n",
      "Total run time: 5.577226524299999mins\n",
      "Run time for the last entity ----------------- 15.335652166999807s\n",
      "\n",
      "card_merch_day_since ---> Done\n",
      "card_merch_count_0 ---> Done\n",
      "card_merch amount variables over past 0 ---> Done\n",
      "card_merch_count_1 ---> Done\n",
      "card_merch amount variables over past 1 ---> Done\n",
      "card_merch_count_3 ---> Done\n",
      "card_merch amount variables over past 3 ---> Done\n",
      "card_merch_count_7 ---> Done\n",
      "card_merch amount variables over past 7 ---> Done\n",
      "card_merch_count_14 ---> Done\n",
      "card_merch amount variables over past 14 ---> Done\n",
      "card_merch_count_30 ---> Done\n",
      "card_merch amount variables over past 30 ---> Done\n",
      "card_merch_count_45 ---> Done\n",
      "card_merch amount variables over past 45 ---> Done\n",
      "card_merch_count_60 ---> Done\n",
      "card_merch amount variables over past 60 ---> Done\n",
      "card_merch_count_90 ---> Done\n",
      "card_merch amount variables over past 90 ---> Done\n",
      "Total run time: 5.598784196516665mins\n",
      "Run time for the last entity ----------------- 1.2933258749999368s\n",
      "\n",
      "card_zip_day_since ---> Done\n",
      "card_zip_count_0 ---> Done\n",
      "card_zip amount variables over past 0 ---> Done\n",
      "card_zip_count_1 ---> Done\n",
      "card_zip amount variables over past 1 ---> Done\n",
      "card_zip_count_3 ---> Done\n",
      "card_zip amount variables over past 3 ---> Done\n",
      "card_zip_count_7 ---> Done\n",
      "card_zip amount variables over past 7 ---> Done\n",
      "card_zip_count_14 ---> Done\n",
      "card_zip amount variables over past 14 ---> Done\n",
      "card_zip_count_30 ---> Done\n",
      "card_zip amount variables over past 30 ---> Done\n",
      "card_zip_count_45 ---> Done\n",
      "card_zip amount variables over past 45 ---> Done\n",
      "card_zip_count_60 ---> Done\n",
      "card_zip amount variables over past 60 ---> Done\n",
      "card_zip_count_90 ---> Done\n",
      "card_zip amount variables over past 90 ---> Done\n",
      "Total run time: 5.615778959716666mins\n",
      "Run time for the last entity ----------------- 1.0196640829999524s\n",
      "\n",
      "card_state_day_since ---> Done\n",
      "card_state_count_0 ---> Done\n",
      "card_state amount variables over past 0 ---> Done\n",
      "card_state_count_1 ---> Done\n",
      "card_state amount variables over past 1 ---> Done\n",
      "card_state_count_3 ---> Done\n",
      "card_state amount variables over past 3 ---> Done\n",
      "card_state_count_7 ---> Done\n",
      "card_state amount variables over past 7 ---> Done\n",
      "card_state_count_14 ---> Done\n",
      "card_state amount variables over past 14 ---> Done\n",
      "card_state_count_30 ---> Done\n",
      "card_state amount variables over past 30 ---> Done\n",
      "card_state_count_45 ---> Done\n",
      "card_state amount variables over past 45 ---> Done\n",
      "card_state_count_60 ---> Done\n",
      "card_state amount variables over past 60 ---> Done\n",
      "card_state_count_90 ---> Done\n",
      "card_state amount variables over past 90 ---> Done\n",
      "Total run time: 5.642197195133334mins\n",
      "Run time for the last entity ----------------- 1.585084457999983s\n",
      "\n",
      "zip3_day_since ---> Done\n",
      "zip3_count_0 ---> Done\n",
      "zip3 amount variables over past 0 ---> Done\n",
      "zip3_count_1 ---> Done\n",
      "zip3 amount variables over past 1 ---> Done\n",
      "zip3_count_3 ---> Done\n",
      "zip3 amount variables over past 3 ---> Done\n",
      "zip3_count_7 ---> Done\n",
      "zip3 amount variables over past 7 ---> Done\n",
      "zip3_count_14 ---> Done\n",
      "zip3 amount variables over past 14 ---> Done\n",
      "zip3_count_30 ---> Done\n",
      "zip3 amount variables over past 30 ---> Done\n",
      "zip3_count_45 ---> Done\n",
      "zip3 amount variables over past 45 ---> Done\n",
      "zip3_count_60 ---> Done\n",
      "zip3 amount variables over past 60 ---> Done\n",
      "zip3_count_90 ---> Done\n",
      "zip3 amount variables over past 90 ---> Done\n",
      "Total run time: 6.129638391666666mins\n",
      "Run time for the last entity ----------------- 29.246456500000022s\n",
      "\n",
      "card_zip3_day_since ---> Done\n",
      "card_zip3_count_0 ---> Done\n",
      "card_zip3 amount variables over past 0 ---> Done\n",
      "card_zip3_count_1 ---> Done\n",
      "card_zip3 amount variables over past 1 ---> Done\n",
      "card_zip3_count_3 ---> Done\n",
      "card_zip3 amount variables over past 3 ---> Done\n",
      "card_zip3_count_7 ---> Done\n",
      "card_zip3 amount variables over past 7 ---> Done\n",
      "card_zip3_count_14 ---> Done\n",
      "card_zip3 amount variables over past 14 ---> Done\n",
      "card_zip3_count_30 ---> Done\n",
      "card_zip3 amount variables over past 30 ---> Done\n",
      "card_zip3_count_45 ---> Done\n",
      "card_zip3 amount variables over past 45 ---> Done\n",
      "card_zip3_count_60 ---> Done\n"
     ]
    },
    {
     "name": "stdout",
     "output_type": "stream",
     "text": [
      "card_zip3 amount variables over past 60 ---> Done\n",
      "card_zip3_count_90 ---> Done\n",
      "card_zip3 amount variables over past 90 ---> Done\n",
      "Total run time: 6.160850093049999mins\n",
      "Run time for the last entity ----------------- 1.8726921669999683s\n",
      "\n",
      "merchnum_state_day_since ---> Done\n",
      "merchnum_state_count_0 ---> Done\n",
      "merchnum_state amount variables over past 0 ---> Done\n",
      "merchnum_state_count_1 ---> Done\n",
      "merchnum_state amount variables over past 1 ---> Done\n",
      "merchnum_state_count_3 ---> Done\n",
      "merchnum_state amount variables over past 3 ---> Done\n",
      "merchnum_state_count_7 ---> Done\n",
      "merchnum_state amount variables over past 7 ---> Done\n",
      "merchnum_state_count_14 ---> Done\n",
      "merchnum_state amount variables over past 14 ---> Done\n",
      "merchnum_state_count_30 ---> Done\n",
      "merchnum_state amount variables over past 30 ---> Done\n",
      "merchnum_state_count_45 ---> Done\n",
      "merchnum_state amount variables over past 45 ---> Done\n",
      "merchnum_state_count_60 ---> Done\n",
      "merchnum_state amount variables over past 60 ---> Done\n",
      "merchnum_state_count_90 ---> Done\n",
      "merchnum_state amount variables over past 90 ---> Done\n",
      "Total run time: 6.267508956933333mins\n",
      "Run time for the last entity ----------------- 6.3995229160000235s\n",
      "\n",
      "merchnum_zip_day_since ---> Done\n",
      "merchnum_zip_count_0 ---> Done\n",
      "merchnum_zip amount variables over past 0 ---> Done\n",
      "merchnum_zip_count_1 ---> Done\n",
      "merchnum_zip amount variables over past 1 ---> Done\n",
      "merchnum_zip_count_3 ---> Done\n",
      "merchnum_zip amount variables over past 3 ---> Done\n",
      "merchnum_zip_count_7 ---> Done\n",
      "merchnum_zip amount variables over past 7 ---> Done\n",
      "merchnum_zip_count_14 ---> Done\n",
      "merchnum_zip amount variables over past 14 ---> Done\n",
      "merchnum_zip_count_30 ---> Done\n",
      "merchnum_zip amount variables over past 30 ---> Done\n",
      "merchnum_zip_count_45 ---> Done\n",
      "merchnum_zip amount variables over past 45 ---> Done\n",
      "merchnum_zip_count_60 ---> Done\n",
      "merchnum_zip amount variables over past 60 ---> Done\n",
      "merchnum_zip_count_90 ---> Done\n",
      "merchnum_zip amount variables over past 90 ---> Done\n",
      "Total run time: 6.3796958708333324mins\n",
      "Run time for the last entity ----------------- 6.731203333999929s\n",
      "\n",
      "merchnum_zip3_day_since ---> Done\n",
      "merchnum_zip3_count_0 ---> Done\n",
      "merchnum_zip3 amount variables over past 0 ---> Done\n",
      "merchnum_zip3_count_1 ---> Done\n",
      "merchnum_zip3 amount variables over past 1 ---> Done\n",
      "merchnum_zip3_count_3 ---> Done\n",
      "merchnum_zip3 amount variables over past 3 ---> Done\n",
      "merchnum_zip3_count_7 ---> Done\n",
      "merchnum_zip3 amount variables over past 7 ---> Done\n",
      "merchnum_zip3_count_14 ---> Done\n",
      "merchnum_zip3 amount variables over past 14 ---> Done\n",
      "merchnum_zip3_count_30 ---> Done\n",
      "merchnum_zip3 amount variables over past 30 ---> Done\n",
      "merchnum_zip3_count_45 ---> Done\n",
      "merchnum_zip3 amount variables over past 45 ---> Done\n",
      "merchnum_zip3_count_60 ---> Done\n",
      "merchnum_zip3 amount variables over past 60 ---> Done\n",
      "merchnum_zip3_count_90 ---> Done\n",
      "merchnum_zip3 amount variables over past 90 ---> Done\n",
      "Total run time: 6.49439813125mins\n"
     ]
    }
   ],
   "source": [
    "start = timeit.default_timer()\n",
    "\n",
    "for entity in attributes:\n",
    "    try: print('Run time for the last entity ----------------- {}s'.format(timeit.default_timer() - st))\n",
    "    except: print('')\n",
    "    st = timeit.default_timer()\n",
    "    \n",
    "    ## Day-since variables:   \n",
    "    df_l = df1[['Recnum', 'Date', entity]]\n",
    "    df_r = df1[['check_record', 'check_date', entity, 'Amount']]\n",
    "    temp = pd.merge(df_l, df_r, left_on = entity, right_on = entity)\n",
    "    temp1 = temp[temp.Recnum > temp.check_record][['Recnum','Date','check_date']]\\\n",
    "                                                   .groupby('Recnum')[['Date', 'check_date']].last()\n",
    "    mapper = (temp1.Date - temp1.check_date).dt.days\n",
    "    final[entity + '_day_since'] = final.Recnum.map(mapper)\n",
    "    final[entity + '_day_since'].fillna((final.Date - pd.to_datetime('2010-01-01')).dt.days, inplace = True)\n",
    "    print('\\n' + entity + '_day_since ---> Done')    \n",
    "    \n",
    "    ## Frequency & Amount variables:   \n",
    "    for time in [0,1,3,7,14,30,45,60,90]:\n",
    "        temp2 = temp[(temp.check_date >= (temp.Date - dt.timedelta(time))) &\\\n",
    "                       (temp.Recnum >= temp.check_record)][['Recnum', entity, 'Amount']]\n",
    "        col_name = entity + '_count_' + str(time)\n",
    "        mapper2 = temp2.groupby('Recnum')[entity].count()\n",
    "        final[col_name] = final.Recnum.map(mapper2)\n",
    "        print(col_name + ' ---> Done')\n",
    "        final[entity + '_avg_' + str(time)] = final.Recnum.map(temp2.groupby('Recnum')['Amount'].mean())\n",
    "        final[entity + '_max_' + str(time)] = final.Recnum.map(temp2.groupby('Recnum')['Amount'].max())\n",
    "        final[entity + '_med_' + str(time)] = final.Recnum.map(temp2.groupby('Recnum')['Amount'].median())\n",
    "        final[entity + '_total_' + str(time)] = final.Recnum.map(temp2.groupby('Recnum')['Amount'].sum())\n",
    "        final[entity + '_actual/avg_' + str(time)] = final['Amount'] / final[entity + '_avg_' + str(time)]\n",
    "        final[entity + '_actual/max_' + str(time)] = final['Amount'] / final[entity + '_max_' + str(time)]\n",
    "        final[entity + '_actual/med_' + str(time)] = final['Amount'] / final[entity + '_med_' + str(time)]\n",
    "        final[entity + '_actual/toal_' + str(time)] = final['Amount'] / final[entity + '_total_' + str(time)]\n",
    "        print(entity + ' amount variables over past ' + str(time) + ' ---> Done')\n",
    "\n",
    "    print('Total run time: {}mins'.format((timeit.default_timer() - start)/60))"
   ]
  },
  {
   "cell_type": "code",
   "execution_count": 83,
   "id": "809f78cc",
   "metadata": {
    "scrolled": true
   },
   "outputs": [
    {
     "data": {
      "text/plain": [
       "(84622, 1089)"
      ]
     },
     "execution_count": 83,
     "metadata": {},
     "output_type": "execute_result"
    }
   ],
   "source": [
    "final.shape"
   ]
  },
  {
   "cell_type": "markdown",
   "id": "248ed57e",
   "metadata": {},
   "source": [
    "### velocity change variables"
   ]
  },
  {
   "cell_type": "code",
   "execution_count": 85,
   "id": "3c44fcac",
   "metadata": {},
   "outputs": [
    {
     "name": "stdout",
     "output_type": "stream",
     "text": [
      "run time: 0.5607800409998163s\n"
     ]
    }
   ],
   "source": [
    "start = timeit.default_timer()\n",
    "for ent in attributes:\n",
    "    for d in ['0', '1']:\n",
    "        for dd in ['7', '14', '30', '45' ,'60', '90']:\n",
    "            final[ent + '_count_' + d + '_by_' + dd] =\\\n",
    "            final[ent + '_count_' + d]/(final[ent + '_count_' + dd])/float(dd)\n",
    "print('run time: {}s'.format(timeit.default_timer() - start))\n"
   ]
  },
  {
   "cell_type": "code",
   "execution_count": 86,
   "id": "b68bfa56",
   "metadata": {},
   "outputs": [
    {
     "data": {
      "text/plain": [
       "(84622, 1245)"
      ]
     },
     "execution_count": 86,
     "metadata": {},
     "output_type": "execute_result"
    }
   ],
   "source": [
    "final.shape"
   ]
  },
  {
   "cell_type": "markdown",
   "id": "f050c42b",
   "metadata": {},
   "source": [
    "#### Velocity day since ratio"
   ]
  },
  {
   "cell_type": "code",
   "execution_count": 87,
   "id": "eec8739c",
   "metadata": {},
   "outputs": [
    {
     "name": "stdout",
     "output_type": "stream",
     "text": [
      "run time: 0.15228866699999344s\n"
     ]
    }
   ],
   "source": [
    "\n",
    "start = timeit.default_timer()\n",
    "\n",
    "for ent in attributes:\n",
    "    for d in ['0', '1']:\n",
    "        for dd in ['7', '14', '30', '45', '60', '90']:\n",
    "            final[ent + '_vdratio_' + d ] =\\\n",
    "            final[ent + '_count_' + d + '_by_' + dd]/(final[ent + '_day_since'])\n",
    "            \n",
    "print('run time: {}s'.format(timeit.default_timer() - start))"
   ]
  },
  {
   "cell_type": "code",
   "execution_count": 88,
   "id": "b8c674e5",
   "metadata": {},
   "outputs": [
    {
     "data": {
      "text/plain": [
       "(84622, 1271)"
      ]
     },
     "execution_count": 88,
     "metadata": {},
     "output_type": "execute_result"
    }
   ],
   "source": [
    "final.shape"
   ]
  },
  {
   "cell_type": "markdown",
   "id": "8ddc10f2",
   "metadata": {},
   "source": [
    "#### Uniqueness"
   ]
  },
  {
   "cell_type": "code",
   "execution_count": 118,
   "id": "3c1d05cb",
   "metadata": {
    "scrolled": true
   },
   "outputs": [
    {
     "name": "stdout",
     "output_type": "stream",
     "text": [
      "Run time for entity Cardnum in field Cardnum ---> Done\n",
      "Run time for entity Cardnum in field Merchnum ---> Done\n",
      "Run time for entity Cardnum in field Merch description ---> Done\n",
      "Run time for entity Cardnum in field Merch state ---> Done\n",
      "Run time for entity Cardnum in field Merch zip ---> Done\n",
      "Run time for entity Cardnum in field card_merch ---> Done\n",
      "Run time for entity Cardnum in field card_zip ---> Done\n",
      "Run time for entity Cardnum in field card_state ---> Done\n",
      "Run time for entity Cardnum in field zip3 ---> Done\n",
      "Run time for entity Cardnum in field card_zip3 ---> Done\n",
      "Run time for entity Cardnum in field merchnum_state ---> Done\n",
      "Run time for entity Cardnum in field merchnum_zip ---> Done\n",
      "Run time for entity Cardnum in field merchnum_zip3 ---> Done\n",
      "Run time for entity Merchnum in field Cardnum ---> Done\n",
      "Run time for entity Merchnum in field Merchnum ---> Done\n",
      "Run time for entity Merchnum in field Merch description ---> Done\n",
      "Run time for entity Merchnum in field Merch state ---> Done\n",
      "Run time for entity Merchnum in field Merch zip ---> Done\n",
      "Run time for entity Merchnum in field card_merch ---> Done\n",
      "Run time for entity Merchnum in field card_zip ---> Done\n",
      "Run time for entity Merchnum in field card_state ---> Done\n",
      "Run time for entity Merchnum in field zip3 ---> Done\n",
      "Run time for entity Merchnum in field card_zip3 ---> Done\n",
      "Run time for entity Merchnum in field merchnum_state ---> Done\n",
      "Run time for entity Merchnum in field merchnum_zip ---> Done\n",
      "Run time for entity Merchnum in field merchnum_zip3 ---> Done\n",
      "Run time for entity Merch description in field Cardnum ---> Done\n",
      "Run time for entity Merch description in field Merchnum ---> Done\n",
      "Run time for entity Merch description in field Merch description ---> Done\n",
      "Run time for entity Merch description in field Merch state ---> Done\n",
      "Run time for entity Merch description in field Merch zip ---> Done\n",
      "Run time for entity Merch description in field card_merch ---> Done\n",
      "Run time for entity Merch description in field card_zip ---> Done\n",
      "Run time for entity Merch description in field card_state ---> Done\n",
      "Run time for entity Merch description in field zip3 ---> Done\n",
      "Run time for entity Merch description in field card_zip3 ---> Done\n",
      "Run time for entity Merch description in field merchnum_state ---> Done\n",
      "Run time for entity Merch description in field merchnum_zip ---> Done\n",
      "Run time for entity Merch description in field merchnum_zip3 ---> Done\n",
      "Run time for entity Merch state in field Cardnum ---> Done\n",
      "Run time for entity Merch state in field Merchnum ---> Done\n",
      "Run time for entity Merch state in field Merch description ---> Done\n",
      "Run time for entity Merch state in field Merch state ---> Done\n",
      "Run time for entity Merch state in field Merch zip ---> Done\n",
      "Run time for entity Merch state in field card_merch ---> Done\n",
      "Run time for entity Merch state in field card_zip ---> Done\n",
      "Run time for entity Merch state in field card_state ---> Done\n",
      "Run time for entity Merch state in field zip3 ---> Done\n",
      "Run time for entity Merch state in field card_zip3 ---> Done\n",
      "Run time for entity Merch state in field merchnum_state ---> Done\n",
      "Run time for entity Merch state in field merchnum_zip ---> Done\n",
      "Run time for entity Merch state in field merchnum_zip3 ---> Done\n",
      "Run time for entity Merch zip in field Cardnum ---> Done\n",
      "Run time for entity Merch zip in field Merchnum ---> Done\n",
      "Run time for entity Merch zip in field Merch description ---> Done\n",
      "Run time for entity Merch zip in field Merch state ---> Done\n",
      "Run time for entity Merch zip in field Merch zip ---> Done\n",
      "Run time for entity Merch zip in field card_merch ---> Done\n",
      "Run time for entity Merch zip in field card_zip ---> Done\n",
      "Run time for entity Merch zip in field card_state ---> Done\n",
      "Run time for entity Merch zip in field zip3 ---> Done\n",
      "Run time for entity Merch zip in field card_zip3 ---> Done\n",
      "Run time for entity Merch zip in field merchnum_state ---> Done\n",
      "Run time for entity Merch zip in field merchnum_zip ---> Done\n",
      "Run time for entity Merch zip in field merchnum_zip3 ---> Done\n",
      "Run time for entity card_merch in field Cardnum ---> Done\n",
      "Run time for entity card_merch in field Merchnum ---> Done\n",
      "Run time for entity card_merch in field Merch description ---> Done\n",
      "Run time for entity card_merch in field Merch state ---> Done\n",
      "Run time for entity card_merch in field Merch zip ---> Done\n",
      "Run time for entity card_merch in field card_merch ---> Done\n",
      "Run time for entity card_merch in field card_zip ---> Done\n",
      "Run time for entity card_merch in field card_state ---> Done\n",
      "Run time for entity card_merch in field zip3 ---> Done\n",
      "Run time for entity card_merch in field card_zip3 ---> Done\n",
      "Run time for entity card_merch in field merchnum_state ---> Done\n",
      "Run time for entity card_merch in field merchnum_zip ---> Done\n",
      "Run time for entity card_merch in field merchnum_zip3 ---> Done\n",
      "Run time for entity card_zip in field Cardnum ---> Done\n",
      "Run time for entity card_zip in field Merchnum ---> Done\n",
      "Run time for entity card_zip in field Merch description ---> Done\n",
      "Run time for entity card_zip in field Merch state ---> Done\n",
      "Run time for entity card_zip in field Merch zip ---> Done\n",
      "Run time for entity card_zip in field card_merch ---> Done\n",
      "Run time for entity card_zip in field card_zip ---> Done\n",
      "Run time for entity card_zip in field card_state ---> Done\n",
      "Run time for entity card_zip in field zip3 ---> Done\n",
      "Run time for entity card_zip in field card_zip3 ---> Done\n",
      "Run time for entity card_zip in field merchnum_state ---> Done\n",
      "Run time for entity card_zip in field merchnum_zip ---> Done\n",
      "Run time for entity card_zip in field merchnum_zip3 ---> Done\n",
      "Run time for entity card_state in field Cardnum ---> Done\n",
      "Run time for entity card_state in field Merchnum ---> Done\n",
      "Run time for entity card_state in field Merch description ---> Done\n",
      "Run time for entity card_state in field Merch state ---> Done\n",
      "Run time for entity card_state in field Merch zip ---> Done\n",
      "Run time for entity card_state in field card_merch ---> Done\n",
      "Run time for entity card_state in field card_zip ---> Done\n",
      "Run time for entity card_state in field card_state ---> Done\n",
      "Run time for entity card_state in field zip3 ---> Done\n",
      "Run time for entity card_state in field card_zip3 ---> Done\n",
      "Run time for entity card_state in field merchnum_state ---> Done\n",
      "Run time for entity card_state in field merchnum_zip ---> Done\n",
      "Run time for entity card_state in field merchnum_zip3 ---> Done\n",
      "Run time for entity zip3 in field Cardnum ---> Done\n",
      "Run time for entity zip3 in field Merchnum ---> Done\n",
      "Run time for entity zip3 in field Merch description ---> Done\n",
      "Run time for entity zip3 in field Merch state ---> Done\n",
      "Run time for entity zip3 in field Merch zip ---> Done\n",
      "Run time for entity zip3 in field card_merch ---> Done\n",
      "Run time for entity zip3 in field card_zip ---> Done\n",
      "Run time for entity zip3 in field card_state ---> Done\n",
      "Run time for entity zip3 in field zip3 ---> Done\n",
      "Run time for entity zip3 in field card_zip3 ---> Done\n",
      "Run time for entity zip3 in field merchnum_state ---> Done\n",
      "Run time for entity zip3 in field merchnum_zip ---> Done\n",
      "Run time for entity zip3 in field merchnum_zip3 ---> Done\n",
      "Run time for entity card_zip3 in field Cardnum ---> Done\n",
      "Run time for entity card_zip3 in field Merchnum ---> Done\n",
      "Run time for entity card_zip3 in field Merch description ---> Done\n",
      "Run time for entity card_zip3 in field Merch state ---> Done\n",
      "Run time for entity card_zip3 in field Merch zip ---> Done\n",
      "Run time for entity card_zip3 in field card_merch ---> Done\n",
      "Run time for entity card_zip3 in field card_zip ---> Done\n",
      "Run time for entity card_zip3 in field card_state ---> Done\n",
      "Run time for entity card_zip3 in field zip3 ---> Done\n",
      "Run time for entity card_zip3 in field card_zip3 ---> Done\n",
      "Run time for entity card_zip3 in field merchnum_state ---> Done\n",
      "Run time for entity card_zip3 in field merchnum_zip ---> Done\n",
      "Run time for entity card_zip3 in field merchnum_zip3 ---> Done\n",
      "Run time for entity merchnum_state in field Cardnum ---> Done\n",
      "Run time for entity merchnum_state in field Merchnum ---> Done\n",
      "Run time for entity merchnum_state in field Merch description ---> Done\n",
      "Run time for entity merchnum_state in field Merch state ---> Done\n",
      "Run time for entity merchnum_state in field Merch zip ---> Done\n",
      "Run time for entity merchnum_state in field card_merch ---> Done\n",
      "Run time for entity merchnum_state in field card_zip ---> Done\n",
      "Run time for entity merchnum_state in field card_state ---> Done\n",
      "Run time for entity merchnum_state in field zip3 ---> Done\n",
      "Run time for entity merchnum_state in field card_zip3 ---> Done\n",
      "Run time for entity merchnum_state in field merchnum_state ---> Done\n",
      "Run time for entity merchnum_state in field merchnum_zip ---> Done\n",
      "Run time for entity merchnum_state in field merchnum_zip3 ---> Done\n",
      "Run time for entity merchnum_zip in field Cardnum ---> Done\n",
      "Run time for entity merchnum_zip in field Merchnum ---> Done\n",
      "Run time for entity merchnum_zip in field Merch description ---> Done\n",
      "Run time for entity merchnum_zip in field Merch state ---> Done\n",
      "Run time for entity merchnum_zip in field Merch zip ---> Done\n",
      "Run time for entity merchnum_zip in field card_merch ---> Done\n",
      "Run time for entity merchnum_zip in field card_zip ---> Done\n",
      "Run time for entity merchnum_zip in field card_state ---> Done\n",
      "Run time for entity merchnum_zip in field zip3 ---> Done\n",
      "Run time for entity merchnum_zip in field card_zip3 ---> Done\n",
      "Run time for entity merchnum_zip in field merchnum_state ---> Done\n",
      "Run time for entity merchnum_zip in field merchnum_zip ---> Done\n",
      "Run time for entity merchnum_zip in field merchnum_zip3 ---> Done\n",
      "Run time for entity merchnum_zip3 in field Cardnum ---> Done\n",
      "Run time for entity merchnum_zip3 in field Merchnum ---> Done\n",
      "Run time for entity merchnum_zip3 in field Merch description ---> Done\n",
      "Run time for entity merchnum_zip3 in field Merch state ---> Done\n",
      "Run time for entity merchnum_zip3 in field Merch zip ---> Done\n",
      "Run time for entity merchnum_zip3 in field card_merch ---> Done\n",
      "Run time for entity merchnum_zip3 in field card_zip ---> Done\n",
      "Run time for entity merchnum_zip3 in field card_state ---> Done\n",
      "Run time for entity merchnum_zip3 in field zip3 ---> Done\n",
      "Run time for entity merchnum_zip3 in field card_zip3 ---> Done\n",
      "Run time for entity merchnum_zip3 in field merchnum_state ---> Done\n",
      "Run time for entity merchnum_zip3 in field merchnum_zip ---> Done\n",
      "Run time for entity merchnum_zip3 in field merchnum_zip3 ---> Done\n",
      "Total run time: 0.0006855840166584433mins\n"
     ]
    }
   ],
   "source": [
    "start = timeit.default_timer()\n",
    "for entity in attributes: \n",
    "    for field in attributes:\n",
    "        st = timeit.default_timer()\n",
    "        if entity != field:\n",
    "            new_attributes = f'{entity}_{field}_nunique'\n",
    "            if new_attributes not in list(final.columns):\n",
    "                mapper3 = final.groupby(entity)[field].nunique()\n",
    "                final[new_attributes] = final[entity].map(mapper3)\n",
    "        print(f'Run time for entity {entity} in field {field}'+ ' ---> Done')\n",
    "print('Total run time: {}mins'.format((timeit.default_timer() - start)/60))"
   ]
  },
  {
   "cell_type": "code",
   "execution_count": 90,
   "id": "b6c2d109",
   "metadata": {},
   "outputs": [
    {
     "data": {
      "text/plain": [
       "(84622, 1427)"
      ]
     },
     "execution_count": 90,
     "metadata": {},
     "output_type": "execute_result"
    }
   ],
   "source": [
    "final.shape"
   ]
  },
  {
   "cell_type": "markdown",
   "id": "830bbcbe",
   "metadata": {},
   "source": [
    "#### Acceleration"
   ]
  },
  {
   "cell_type": "code",
   "execution_count": 93,
   "id": "f9746ac9",
   "metadata": {},
   "outputs": [
    {
     "name": "stdout",
     "output_type": "stream",
     "text": [
      "run time: 1.236887083000056s\n"
     ]
    }
   ],
   "source": [
    "\n",
    "start = timeit.default_timer()\n",
    "for ent in attributes:\n",
    "    for d in ['0', '1']:\n",
    "        for dd in ['7', '14', '30', '45', '60', '90']:\n",
    "            final[ent + '_count_' + d + '_by_' + dd + \"_sq\"] =\\\n",
    "            final[ent + '_count_' + d]/(final[ent + '_count_' + dd])/pow(float(dd),2)\n",
    "print('run time: {}s'.format(timeit.default_timer() - start))"
   ]
  },
  {
   "cell_type": "code",
   "execution_count": 94,
   "id": "29712f75",
   "metadata": {
    "scrolled": true
   },
   "outputs": [
    {
     "data": {
      "text/plain": [
       "(84622, 1583)"
      ]
     },
     "execution_count": 94,
     "metadata": {},
     "output_type": "execute_result"
    }
   ],
   "source": [
    "final.shape"
   ]
  },
  {
   "cell_type": "markdown",
   "id": "ff2e6880",
   "metadata": {},
   "source": [
    "#### Variability variables "
   ]
  },
  {
   "cell_type": "code",
   "execution_count": 96,
   "id": "999a818d",
   "metadata": {
    "scrolled": true
   },
   "outputs": [
    {
     "name": "stdout",
     "output_type": "stream",
     "text": [
      "Run time for the last entity ----------------- 167.05771174999973s\n",
      "Cardnum_variability_avg_0 ---> Done\n",
      "Cardnum_variability_max_0 ---> Done\n",
      "Cardnum_variability_med_0 ---> Done\n",
      "Cardnum amount variables over past 0 ---> Done\n",
      "Cardnum_variability_avg_1 ---> Done\n",
      "Cardnum_variability_max_1 ---> Done\n",
      "Cardnum_variability_med_1 ---> Done\n",
      "Cardnum amount variables over past 1 ---> Done\n",
      "Cardnum_variability_avg_3 ---> Done\n",
      "Cardnum_variability_max_3 ---> Done\n",
      "Cardnum_variability_med_3 ---> Done\n",
      "Cardnum amount variables over past 3 ---> Done\n",
      "Cardnum_variability_avg_7 ---> Done\n",
      "Cardnum_variability_max_7 ---> Done\n",
      "Cardnum_variability_med_7 ---> Done\n",
      "Cardnum amount variables over past 7 ---> Done\n",
      "Cardnum_variability_avg_14 ---> Done\n",
      "Cardnum_variability_max_14 ---> Done\n",
      "Cardnum_variability_med_14 ---> Done\n",
      "Cardnum amount variables over past 14 ---> Done\n",
      "Cardnum_variability_avg_30 ---> Done\n",
      "Cardnum_variability_max_30 ---> Done\n",
      "Cardnum_variability_med_30 ---> Done\n",
      "Cardnum amount variables over past 30 ---> Done\n",
      "Run time for the last entity ----------------- 169.18250733299965s\n",
      "Merchnum_variability_avg_0 ---> Done\n",
      "Merchnum_variability_max_0 ---> Done\n",
      "Merchnum_variability_med_0 ---> Done\n",
      "Merchnum amount variables over past 0 ---> Done\n",
      "Merchnum_variability_avg_1 ---> Done\n",
      "Merchnum_variability_max_1 ---> Done\n",
      "Merchnum_variability_med_1 ---> Done\n",
      "Merchnum amount variables over past 1 ---> Done\n",
      "Merchnum_variability_avg_3 ---> Done\n",
      "Merchnum_variability_max_3 ---> Done\n",
      "Merchnum_variability_med_3 ---> Done\n",
      "Merchnum amount variables over past 3 ---> Done\n",
      "Merchnum_variability_avg_7 ---> Done\n",
      "Merchnum_variability_max_7 ---> Done\n",
      "Merchnum_variability_med_7 ---> Done\n",
      "Merchnum amount variables over past 7 ---> Done\n",
      "Merchnum_variability_avg_14 ---> Done\n",
      "Merchnum_variability_max_14 ---> Done\n",
      "Merchnum_variability_med_14 ---> Done\n",
      "Merchnum amount variables over past 14 ---> Done\n",
      "Merchnum_variability_avg_30 ---> Done\n",
      "Merchnum_variability_max_30 ---> Done\n",
      "Merchnum_variability_med_30 ---> Done\n",
      "Merchnum amount variables over past 30 ---> Done\n",
      "Run time for the last entity ----------------- 173.9858788749998s\n",
      "Merch description_variability_avg_0 ---> Done\n",
      "Merch description_variability_max_0 ---> Done\n",
      "Merch description_variability_med_0 ---> Done\n",
      "Merch description amount variables over past 0 ---> Done\n",
      "Merch description_variability_avg_1 ---> Done\n",
      "Merch description_variability_max_1 ---> Done\n",
      "Merch description_variability_med_1 ---> Done\n",
      "Merch description amount variables over past 1 ---> Done\n",
      "Merch description_variability_avg_3 ---> Done\n",
      "Merch description_variability_max_3 ---> Done\n",
      "Merch description_variability_med_3 ---> Done\n",
      "Merch description amount variables over past 3 ---> Done\n",
      "Merch description_variability_avg_7 ---> Done\n",
      "Merch description_variability_max_7 ---> Done\n",
      "Merch description_variability_med_7 ---> Done\n",
      "Merch description amount variables over past 7 ---> Done\n",
      "Merch description_variability_avg_14 ---> Done\n",
      "Merch description_variability_max_14 ---> Done\n",
      "Merch description_variability_med_14 ---> Done\n",
      "Merch description amount variables over past 14 ---> Done\n",
      "Merch description_variability_avg_30 ---> Done\n",
      "Merch description_variability_max_30 ---> Done\n",
      "Merch description_variability_med_30 ---> Done\n",
      "Merch description amount variables over past 30 ---> Done\n",
      "Run time for the last entity ----------------- 177.78081412499978s\n",
      "Merch state_variability_avg_0 ---> Done\n",
      "Merch state_variability_max_0 ---> Done\n",
      "Merch state_variability_med_0 ---> Done\n",
      "Merch state amount variables over past 0 ---> Done\n",
      "Merch state_variability_avg_1 ---> Done\n",
      "Merch state_variability_max_1 ---> Done\n",
      "Merch state_variability_med_1 ---> Done\n",
      "Merch state amount variables over past 1 ---> Done\n",
      "Merch state_variability_avg_3 ---> Done\n",
      "Merch state_variability_max_3 ---> Done\n",
      "Merch state_variability_med_3 ---> Done\n",
      "Merch state amount variables over past 3 ---> Done\n",
      "Merch state_variability_avg_7 ---> Done\n",
      "Merch state_variability_max_7 ---> Done\n",
      "Merch state_variability_med_7 ---> Done\n",
      "Merch state amount variables over past 7 ---> Done\n",
      "Merch state_variability_avg_14 ---> Done\n",
      "Merch state_variability_max_14 ---> Done\n",
      "Merch state_variability_med_14 ---> Done\n",
      "Merch state amount variables over past 14 ---> Done\n",
      "Merch state_variability_avg_30 ---> Done\n",
      "Merch state_variability_max_30 ---> Done\n",
      "Merch state_variability_med_30 ---> Done\n",
      "Merch state amount variables over past 30 ---> Done\n",
      "Run time for the last entity ----------------- 379.6865508329997s\n",
      "Merch zip_variability_avg_0 ---> Done\n",
      "Merch zip_variability_max_0 ---> Done\n",
      "Merch zip_variability_med_0 ---> Done\n",
      "Merch zip amount variables over past 0 ---> Done\n",
      "Merch zip_variability_avg_1 ---> Done\n",
      "Merch zip_variability_max_1 ---> Done\n",
      "Merch zip_variability_med_1 ---> Done\n",
      "Merch zip amount variables over past 1 ---> Done\n",
      "Merch zip_variability_avg_3 ---> Done\n",
      "Merch zip_variability_max_3 ---> Done\n",
      "Merch zip_variability_med_3 ---> Done\n",
      "Merch zip amount variables over past 3 ---> Done\n",
      "Merch zip_variability_avg_7 ---> Done\n",
      "Merch zip_variability_max_7 ---> Done\n",
      "Merch zip_variability_med_7 ---> Done\n",
      "Merch zip amount variables over past 7 ---> Done\n",
      "Merch zip_variability_avg_14 ---> Done\n",
      "Merch zip_variability_max_14 ---> Done\n",
      "Merch zip_variability_med_14 ---> Done\n",
      "Merch zip amount variables over past 14 ---> Done\n",
      "Merch zip_variability_avg_30 ---> Done\n",
      "Merch zip_variability_max_30 ---> Done\n",
      "Merch zip_variability_med_30 ---> Done\n",
      "Merch zip amount variables over past 30 ---> Done\n",
      "Run time for the last entity ----------------- 391.335501s\n",
      "card_merch_variability_avg_0 ---> Done\n",
      "card_merch_variability_max_0 ---> Done\n",
      "card_merch_variability_med_0 ---> Done\n",
      "card_merch amount variables over past 0 ---> Done\n",
      "card_merch_variability_avg_1 ---> Done\n",
      "card_merch_variability_max_1 ---> Done\n",
      "card_merch_variability_med_1 ---> Done\n",
      "card_merch amount variables over past 1 ---> Done\n",
      "card_merch_variability_avg_3 ---> Done\n",
      "card_merch_variability_max_3 ---> Done\n",
      "card_merch_variability_med_3 ---> Done\n",
      "card_merch amount variables over past 3 ---> Done\n",
      "card_merch_variability_avg_7 ---> Done\n",
      "card_merch_variability_max_7 ---> Done\n",
      "card_merch_variability_med_7 ---> Done\n",
      "card_merch amount variables over past 7 ---> Done\n",
      "card_merch_variability_avg_14 ---> Done\n",
      "card_merch_variability_max_14 ---> Done\n",
      "card_merch_variability_med_14 ---> Done\n",
      "card_merch amount variables over past 14 ---> Done\n",
      "card_merch_variability_avg_30 ---> Done\n",
      "card_merch_variability_max_30 ---> Done\n",
      "card_merch_variability_med_30 ---> Done\n",
      "card_merch amount variables over past 30 ---> Done\n",
      "Run time for the last entity ----------------- 391.94157074999976s\n",
      "card_zip_variability_avg_0 ---> Done\n",
      "card_zip_variability_max_0 ---> Done\n",
      "card_zip_variability_med_0 ---> Done\n",
      "card_zip amount variables over past 0 ---> Done\n",
      "card_zip_variability_avg_1 ---> Done\n",
      "card_zip_variability_max_1 ---> Done\n",
      "card_zip_variability_med_1 ---> Done\n",
      "card_zip amount variables over past 1 ---> Done\n",
      "card_zip_variability_avg_3 ---> Done\n",
      "card_zip_variability_max_3 ---> Done\n",
      "card_zip_variability_med_3 ---> Done\n",
      "card_zip amount variables over past 3 ---> Done\n",
      "card_zip_variability_avg_7 ---> Done\n",
      "card_zip_variability_max_7 ---> Done\n",
      "card_zip_variability_med_7 ---> Done\n",
      "card_zip amount variables over past 7 ---> Done\n",
      "card_zip_variability_avg_14 ---> Done\n",
      "card_zip_variability_max_14 ---> Done\n",
      "card_zip_variability_med_14 ---> Done\n",
      "card_zip amount variables over past 14 ---> Done\n",
      "card_zip_variability_avg_30 ---> Done\n",
      "card_zip_variability_max_30 ---> Done\n",
      "card_zip_variability_med_30 ---> Done\n",
      "card_zip amount variables over past 30 ---> Done\n",
      "Run time for the last entity ----------------- 392.40724420800007s\n",
      "card_state_variability_avg_0 ---> Done\n",
      "card_state_variability_max_0 ---> Done\n",
      "card_state_variability_med_0 ---> Done\n",
      "card_state amount variables over past 0 ---> Done\n",
      "card_state_variability_avg_1 ---> Done\n",
      "card_state_variability_max_1 ---> Done\n",
      "card_state_variability_med_1 ---> Done\n",
      "card_state amount variables over past 1 ---> Done\n",
      "card_state_variability_avg_3 ---> Done\n",
      "card_state_variability_max_3 ---> Done\n",
      "card_state_variability_med_3 ---> Done\n",
      "card_state amount variables over past 3 ---> Done\n",
      "card_state_variability_avg_7 ---> Done\n",
      "card_state_variability_max_7 ---> Done\n",
      "card_state_variability_med_7 ---> Done\n",
      "card_state amount variables over past 7 ---> Done\n",
      "card_state_variability_avg_14 ---> Done\n",
      "card_state_variability_max_14 ---> Done\n",
      "card_state_variability_med_14 ---> Done\n",
      "card_state amount variables over past 14 ---> Done\n",
      "card_state_variability_avg_30 ---> Done\n",
      "card_state_variability_max_30 ---> Done\n",
      "card_state_variability_med_30 ---> Done\n",
      "card_state amount variables over past 30 ---> Done\n",
      "Run time for the last entity ----------------- 393.03811170799963s\n"
     ]
    },
    {
     "name": "stdout",
     "output_type": "stream",
     "text": [
      "zip3_variability_avg_0 ---> Done\n",
      "zip3_variability_max_0 ---> Done\n",
      "zip3_variability_med_0 ---> Done\n",
      "zip3 amount variables over past 0 ---> Done\n",
      "zip3_variability_avg_1 ---> Done\n",
      "zip3_variability_max_1 ---> Done\n",
      "zip3_variability_med_1 ---> Done\n",
      "zip3 amount variables over past 1 ---> Done\n",
      "zip3_variability_avg_3 ---> Done\n",
      "zip3_variability_max_3 ---> Done\n",
      "zip3_variability_med_3 ---> Done\n",
      "zip3 amount variables over past 3 ---> Done\n",
      "zip3_variability_avg_7 ---> Done\n",
      "zip3_variability_max_7 ---> Done\n",
      "zip3_variability_med_7 ---> Done\n",
      "zip3 amount variables over past 7 ---> Done\n",
      "zip3_variability_avg_14 ---> Done\n",
      "zip3_variability_max_14 ---> Done\n",
      "zip3_variability_med_14 ---> Done\n",
      "zip3 amount variables over past 14 ---> Done\n",
      "zip3_variability_avg_30 ---> Done\n",
      "zip3_variability_max_30 ---> Done\n",
      "zip3_variability_med_30 ---> Done\n",
      "zip3 amount variables over past 30 ---> Done\n",
      "Run time for the last entity ----------------- 410.637822833s\n",
      "card_zip3_variability_avg_0 ---> Done\n",
      "card_zip3_variability_max_0 ---> Done\n",
      "card_zip3_variability_med_0 ---> Done\n",
      "card_zip3 amount variables over past 0 ---> Done\n",
      "card_zip3_variability_avg_1 ---> Done\n",
      "card_zip3_variability_max_1 ---> Done\n",
      "card_zip3_variability_med_1 ---> Done\n",
      "card_zip3 amount variables over past 1 ---> Done\n",
      "card_zip3_variability_avg_3 ---> Done\n",
      "card_zip3_variability_max_3 ---> Done\n",
      "card_zip3_variability_med_3 ---> Done\n",
      "card_zip3 amount variables over past 3 ---> Done\n",
      "card_zip3_variability_avg_7 ---> Done\n",
      "card_zip3_variability_max_7 ---> Done\n",
      "card_zip3_variability_med_7 ---> Done\n",
      "card_zip3 amount variables over past 7 ---> Done\n",
      "card_zip3_variability_avg_14 ---> Done\n",
      "card_zip3_variability_max_14 ---> Done\n",
      "card_zip3_variability_med_14 ---> Done\n",
      "card_zip3 amount variables over past 14 ---> Done\n",
      "card_zip3_variability_avg_30 ---> Done\n",
      "card_zip3_variability_max_30 ---> Done\n",
      "card_zip3_variability_med_30 ---> Done\n",
      "card_zip3 amount variables over past 30 ---> Done\n",
      "Run time for the last entity ----------------- 411.61633483299966s\n",
      "merchnum_state_variability_avg_0 ---> Done\n",
      "merchnum_state_variability_max_0 ---> Done\n",
      "merchnum_state_variability_med_0 ---> Done\n",
      "merchnum_state amount variables over past 0 ---> Done\n",
      "merchnum_state_variability_avg_1 ---> Done\n",
      "merchnum_state_variability_max_1 ---> Done\n",
      "merchnum_state_variability_med_1 ---> Done\n",
      "merchnum_state amount variables over past 1 ---> Done\n",
      "merchnum_state_variability_avg_3 ---> Done\n",
      "merchnum_state_variability_max_3 ---> Done\n",
      "merchnum_state_variability_med_3 ---> Done\n",
      "merchnum_state amount variables over past 3 ---> Done\n",
      "merchnum_state_variability_avg_7 ---> Done\n",
      "merchnum_state_variability_max_7 ---> Done\n",
      "merchnum_state_variability_med_7 ---> Done\n",
      "merchnum_state amount variables over past 7 ---> Done\n",
      "merchnum_state_variability_avg_14 ---> Done\n",
      "merchnum_state_variability_max_14 ---> Done\n",
      "merchnum_state_variability_med_14 ---> Done\n",
      "merchnum_state amount variables over past 14 ---> Done\n",
      "merchnum_state_variability_avg_30 ---> Done\n",
      "merchnum_state_variability_max_30 ---> Done\n",
      "merchnum_state_variability_med_30 ---> Done\n",
      "merchnum_state amount variables over past 30 ---> Done\n",
      "Run time for the last entity ----------------- 415.9955284579996s\n",
      "merchnum_zip_variability_avg_0 ---> Done\n",
      "merchnum_zip_variability_max_0 ---> Done\n",
      "merchnum_zip_variability_med_0 ---> Done\n",
      "merchnum_zip amount variables over past 0 ---> Done\n",
      "merchnum_zip_variability_avg_1 ---> Done\n",
      "merchnum_zip_variability_max_1 ---> Done\n",
      "merchnum_zip_variability_med_1 ---> Done\n",
      "merchnum_zip amount variables over past 1 ---> Done\n",
      "merchnum_zip_variability_avg_3 ---> Done\n",
      "merchnum_zip_variability_max_3 ---> Done\n",
      "merchnum_zip_variability_med_3 ---> Done\n",
      "merchnum_zip amount variables over past 3 ---> Done\n",
      "merchnum_zip_variability_avg_7 ---> Done\n",
      "merchnum_zip_variability_max_7 ---> Done\n",
      "merchnum_zip_variability_med_7 ---> Done\n",
      "merchnum_zip amount variables over past 7 ---> Done\n",
      "merchnum_zip_variability_avg_14 ---> Done\n",
      "merchnum_zip_variability_max_14 ---> Done\n",
      "merchnum_zip_variability_med_14 ---> Done\n",
      "merchnum_zip amount variables over past 14 ---> Done\n",
      "merchnum_zip_variability_avg_30 ---> Done\n",
      "merchnum_zip_variability_max_30 ---> Done\n",
      "merchnum_zip_variability_med_30 ---> Done\n",
      "merchnum_zip amount variables over past 30 ---> Done\n",
      "Run time for the last entity ----------------- 419.6263518749997s\n",
      "merchnum_zip3_variability_avg_0 ---> Done\n",
      "merchnum_zip3_variability_max_0 ---> Done\n",
      "merchnum_zip3_variability_med_0 ---> Done\n",
      "merchnum_zip3 amount variables over past 0 ---> Done\n",
      "merchnum_zip3_variability_avg_1 ---> Done\n",
      "merchnum_zip3_variability_max_1 ---> Done\n",
      "merchnum_zip3_variability_med_1 ---> Done\n",
      "merchnum_zip3 amount variables over past 1 ---> Done\n",
      "merchnum_zip3_variability_avg_3 ---> Done\n",
      "merchnum_zip3_variability_max_3 ---> Done\n",
      "merchnum_zip3_variability_med_3 ---> Done\n",
      "merchnum_zip3 amount variables over past 3 ---> Done\n",
      "merchnum_zip3_variability_avg_7 ---> Done\n",
      "merchnum_zip3_variability_max_7 ---> Done\n",
      "merchnum_zip3_variability_med_7 ---> Done\n",
      "merchnum_zip3 amount variables over past 7 ---> Done\n",
      "merchnum_zip3_variability_avg_14 ---> Done\n",
      "merchnum_zip3_variability_max_14 ---> Done\n",
      "merchnum_zip3_variability_med_14 ---> Done\n",
      "merchnum_zip3 amount variables over past 14 ---> Done\n",
      "merchnum_zip3_variability_avg_30 ---> Done\n",
      "merchnum_zip3_variability_max_30 ---> Done\n",
      "merchnum_zip3_variability_med_30 ---> Done\n",
      "merchnum_zip3 amount variables over past 30 ---> Done\n",
      "Total run time: 4.271858986116665mins\n"
     ]
    }
   ],
   "source": [
    "start = timeit.default_timer()\n",
    "for entity in attributes:\n",
    "    try: print('Run time for the last entity ----------------- {}s'.format(timeit.default_timer() - st))\n",
    "    except: \n",
    "        print('')\n",
    "        st = timeit.default_timer()\n",
    "    ## Day-since variables:   \n",
    "    df_l = df1[['Recnum', 'Date', entity,'Amount']]\n",
    "    df_r = df1[['check_record', 'check_date', entity, 'Amount']]\n",
    "    temp = pd.merge(df_l, df_r, left_on = entity, right_on = entity)\n",
    "    \n",
    "    for time in [0,1,3,7,14,30]:\n",
    "        temp2 = temp[(temp.check_date >= (temp.Date - dt.timedelta(time))) &\\\n",
    "                       (temp.Recnum >= temp.check_record)][['Recnum', 'check_record',entity, 'Amount_x','Amount_y']]\n",
    "        temp2['Amount_diff']=temp2['Amount_y']-temp2['Amount_x']\n",
    "\n",
    "        col_name = entity + '_variability_avg_' + str(time)\n",
    "        mapper2 = temp2.groupby('Recnum')['Amount_diff'].mean()\n",
    "        final[col_name] = final.Recnum.map(mapper2)        \n",
    "        print(col_name + ' ---> Done')\n",
    "        \n",
    "        col_name = entity + '_variability_max_' + str(time)\n",
    "        mapper2 = temp2.groupby('Recnum')['Amount_diff'].max()\n",
    "        final[col_name] = final.Recnum.map(mapper2)        \n",
    "        print(col_name + ' ---> Done')\n",
    "        \n",
    "        col_name = entity + '_variability_med_' + str(time)\n",
    "        mapper2 = temp2.groupby('Recnum')['Amount_diff'].median()\n",
    "        final[col_name] = final.Recnum.map(mapper2)        \n",
    "        print(col_name + ' ---> Done')\n",
    "        \n",
    "        print(entity + ' amount variables over past ' + str(time) + ' ---> Done')\n",
    "        \n",
    "print('Total run time: {}mins'.format((timeit.default_timer() - start)/60))"
   ]
  },
  {
   "cell_type": "code",
   "execution_count": 111,
   "id": "c4562f3c",
   "metadata": {
    "scrolled": false
   },
   "outputs": [
    {
     "data": {
      "text/plain": [
       "(84622, 1817)"
      ]
     },
     "execution_count": 111,
     "metadata": {},
     "output_type": "execute_result"
    }
   ],
   "source": [
    "final.shape"
   ]
  }
 ],
 "metadata": {
  "kernelspec": {
   "display_name": "Python 3",
   "language": "python",
   "name": "python3"
  },
  "language_info": {
   "codemirror_mode": {
    "name": "ipython",
    "version": 3
   },
   "file_extension": ".py",
   "mimetype": "text/x-python",
   "name": "python",
   "nbconvert_exporter": "python",
   "pygments_lexer": "ipython3",
   "version": "3.8.8"
  },
  "toc": {
   "base_numbering": 1,
   "nav_menu": {},
   "number_sections": true,
   "sideBar": true,
   "skip_h1_title": false,
   "title_cell": "Table of Contents",
   "title_sidebar": "Contents",
   "toc_cell": false,
   "toc_position": {},
   "toc_section_display": true,
   "toc_window_display": false
  }
 },
 "nbformat": 4,
 "nbformat_minor": 5
}
